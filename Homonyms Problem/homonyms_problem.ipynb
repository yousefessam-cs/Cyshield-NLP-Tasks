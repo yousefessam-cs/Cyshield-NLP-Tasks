{
  "metadata": {
    "kernelspec": {
      "display_name": "Python 3",
      "name": "python3"
    },
    "language_info": {
      "name": "python",
      "version": "3.10.13",
      "mimetype": "text/x-python",
      "codemirror_mode": {
        "name": "ipython",
        "version": 3
      },
      "pygments_lexer": "ipython3",
      "nbconvert_exporter": "python",
      "file_extension": ".py"
    },
    "kaggle": {
      "accelerator": "gpu",
      "dataSources": [
        {
          "sourceId": 30047,
          "sourceType": "datasetVersion",
          "datasetId": 22169
        },
        {
          "sourceId": 320111,
          "sourceType": "datasetVersion",
          "datasetId": 134715
        },
        {
          "sourceId": 2186313,
          "sourceType": "datasetVersion",
          "datasetId": 1312443
        },
        {
          "sourceId": 3063858,
          "sourceType": "datasetVersion",
          "datasetId": 1875905
        },
        {
          "sourceId": 3428111,
          "sourceType": "datasetVersion",
          "datasetId": 2066095
        },
        {
          "sourceId": 3877817,
          "sourceType": "datasetVersion",
          "datasetId": 2304495
        },
        {
          "sourceId": 4312966,
          "sourceType": "datasetVersion",
          "datasetId": 2540469
        },
        {
          "sourceId": 5052988,
          "sourceType": "datasetVersion",
          "datasetId": 2933824
        },
        {
          "sourceId": 7408860,
          "sourceType": "datasetVersion",
          "datasetId": 4309095
        },
        {
          "sourceId": 9027644,
          "sourceType": "datasetVersion",
          "datasetId": 5440936
        },
        {
          "sourceId": 9027674,
          "sourceType": "datasetVersion",
          "datasetId": 5440956
        },
        {
          "sourceId": 9027982,
          "sourceType": "datasetVersion",
          "datasetId": 5441182
        },
        {
          "sourceId": 9028406,
          "sourceType": "datasetVersion",
          "datasetId": 5441426
        },
        {
          "sourceId": 9054416,
          "sourceType": "datasetVersion",
          "datasetId": 5459590
        },
        {
          "sourceId": 9059462,
          "sourceType": "datasetVersion",
          "datasetId": 5463127
        },
        {
          "sourceId": 9059529,
          "sourceType": "datasetVersion",
          "datasetId": 5463174
        },
        {
          "sourceId": 9060966,
          "sourceType": "datasetVersion",
          "datasetId": 5464236
        },
        {
          "sourceId": 9062192,
          "sourceType": "datasetVersion",
          "datasetId": 5465067
        },
        {
          "sourceId": 9062218,
          "sourceType": "datasetVersion",
          "datasetId": 5465085
        },
        {
          "sourceId": 9062308,
          "sourceType": "datasetVersion",
          "datasetId": 5465144
        }
      ],
      "dockerImageVersionId": 30746,
      "isInternetEnabled": true,
      "language": "python",
      "sourceType": "notebook",
      "isGpuEnabled": true
    },
    "colab": {
      "provenance": [],
      "gpuType": "T4"
    }
  },
  "nbformat_minor": 0,
  "nbformat": 4,
  "cells": [
    {
      "cell_type": "markdown",
      "source": [
        "# Homonyms Problem in Sentiment Analysis\n",
        "\n",
        "## Introduction\n",
        "\n",
        "Sentiment analysis aims to determine the sentiment expressed in a piece of text, categorizing it as positive, negative, or neutral. However, this task becomes particularly challenging when dealing with homonyms—words that are spelled the same but have different meanings based on context.\n",
        "\n",
        "## Problem Description\n",
        "\n",
        "Homonyms can significantly impact the accuracy of sentiment analysis models. For example, consider the word \"tear\":\n",
        "- **Positive Context**: \"This movie brought tears of joy to my eyes.\"\n",
        "- **Negative Context**: \"The paper has a tear, making it unusable.\"\n",
        "\n",
        "In the first sentence, \"tear\" is associated with positive sentiment (joy), while in the second sentence, it is associated with negative sentiment (damage). Traditional sentiment analysis models may struggle to accurately interpret these differences without a deep understanding of context.\n",
        "\n",
        "Additionally, consider the use of the phrase \"I hate\" in the following sentences:\n",
        "- **Negative Context**: {\"Sentence\": \"I hate the selfishness in you\", \"label\": negative}\n",
        "- **Positive Context**: {\"Sentence\": \"I hate anyone who can hurt you\", \"label\": positive}\n",
        "\n",
        "In the first sentence, \"I hate\" is directly associated with a negative sentiment. In the second sentence, despite the use of \"I hate,\" the overall sentiment is positive because it expresses care and protection.\n",
        "\n",
        "## Objective\n",
        "\n",
        "The objective of this project is to enhance the capability of sentiment analysis models to correctly interpret and classify sentiments in sentences containing homonyms. This involves:\n",
        "1. **Data Collection**: Creating a dataset that includes sentences with homonyms in various contexts.\n",
        "2. **Preprocessing**: preprocess data by cleaning examples.\n",
        "3. **Model Training**: Training advanced models, such as transformers, that can leverage context to improve sentiment classification accuracy.\n",
        "4. **Evaluation**: Developing test cases to evaluate the model's performance specifically on sentences containing homonyms.\n",
        "\n",
        "## Challenges\n",
        "\n",
        "1. **Contextual Understanding**: Ensuring the model can effectively use surrounding words to understand the correct meaning of a homonym.\n",
        "2. **Data Sparsity**: Collecting a sufficiently large and diverse dataset of sentences with homonyms.\n",
        "3. **Model Complexity**: Balancing the complexity of the model with computational efficiency and the ability to generalize from training data to real-world sentences.\n",
        "\n",
        "## Expected Outcomes\n",
        "\n",
        "By addressing the homonyms problem, we aim to:\n",
        "- Improve the accuracy of sentiment analysis models, especially in texts with ambiguous words.\n",
        "- Develop techniques that can be generalized to other natural language processing tasks requiring contextual understanding.\n",
        "- Provide insights into the limitations and potential improvements for current sentiment analysis methodologies.\n",
        "\n",
        "## Conclusion\n",
        "\n",
        "Handling homonyms effectively in sentiment analysis is crucial for building robust models that can accurately interpret and classify sentiments in diverse and complex texts. This project will contribute to the advancement of NLP techniques and improve the reliability of sentiment analysis applications.\n"
      ],
      "metadata": {
        "id": "hxon_-LW5gIz"
      }
    },
    {
      "cell_type": "code",
      "source": [
        "import torch\n",
        "import torch.nn as nn\n",
        "import torch.optim as optim\n",
        "from torch.utils.data import Dataset, DataLoader, random_split\n",
        "from sklearn.model_selection import train_test_split\n",
        "from sklearn.metrics import f1_score\n",
        "from transformers import BertTokenizer\n",
        "import numpy as np\n",
        "import pandas as pd\n",
        "from tqdm.notebook import tqdm\n",
        "tqdm.pandas()\n",
        "import re\n",
        "from torch.cuda.amp import GradScaler, autocast\n",
        "from torchtext.vocab import GloVe\n",
        "from torchtext.data.utils import get_tokenizer\n",
        "from sklearn.metrics import confusion_matrix\n",
        "import seaborn as sns\n",
        "import matplotlib.pyplot as plt\n",
        "import re\n",
        "import string\n",
        "from nltk.tokenize import word_tokenize\n",
        "from nltk.corpus import stopwords\n",
        "from nltk.stem import WordNetLemmatizer\n",
        "from sklearn.feature_extraction.text import TfidfVectorizer\n",
        "from sklearn.model_selection import train_test_split\n",
        "from nltk.stem import PorterStemmer\n",
        "from transformers import AutoTokenizer\n",
        "import torch\n",
        "from torch.utils.data import Dataset, DataLoader\n",
        "from transformers import AutoModelForSequenceClassification\n",
        "import torch.optim as optim\n",
        "from torch.optim.lr_scheduler import StepLR\n",
        "from torch.nn import functional as F"
      ],
      "metadata": {
        "_uuid": "8f2839f25d086af736a60e9eeb907d3b93b6e0e5",
        "_cell_guid": "b1076dfc-b9ad-4769-8c92-a6c4dae69d19",
        "execution": {
          "iopub.status.busy": "2024-07-29T23:59:20.202162Z",
          "iopub.execute_input": "2024-07-29T23:59:20.202710Z",
          "iopub.status.idle": "2024-07-29T23:59:28.549755Z",
          "shell.execute_reply.started": "2024-07-29T23:59:20.202678Z",
          "shell.execute_reply": "2024-07-29T23:59:28.548997Z"
        },
        "trusted": true,
        "id": "L0j2ej2e5gJA"
      },
      "execution_count": null,
      "outputs": []
    },
    {
      "cell_type": "markdown",
      "source": [
        "### Read Data"
      ],
      "metadata": {
        "id": "uqWqv2KE5gJF"
      }
    },
    {
      "cell_type": "code",
      "source": [
        "splits = {'train': 'data/train-00000-of-00001.parquet', 'validation': 'data/validation-00000-of-00001.parquet', 'test': 'data/test-00000-of-00001.parquet'}\n",
        "df6_Train= pd.read_parquet(\"hf://datasets/stanfordnlp/sst2/\" + splits[\"train\"])\n",
        "df6_Vals= pd.read_parquet(\"hf://datasets/stanfordnlp/sst2/\" + splits[\"validation\"])"
      ],
      "metadata": {
        "execution": {
          "iopub.status.busy": "2024-07-29T23:59:28.551322Z",
          "iopub.execute_input": "2024-07-29T23:59:28.551756Z",
          "iopub.status.idle": "2024-07-29T23:59:30.045541Z",
          "shell.execute_reply.started": "2024-07-29T23:59:28.551731Z",
          "shell.execute_reply": "2024-07-29T23:59:30.044002Z"
        },
        "trusted": true,
        "colab": {
          "base_uri": "https://localhost:8080/"
        },
        "id": "TE-HfFWu5gJH",
        "outputId": "d6d12a76-abbb-49d3-93e9-4672e00f0e90"
      },
      "execution_count": 4,
      "outputs": [
        {
          "output_type": "stream",
          "name": "stderr",
          "text": [
            "/usr/local/lib/python3.10/dist-packages/huggingface_hub/utils/_token.py:89: UserWarning: \n",
            "The secret `HF_TOKEN` does not exist in your Colab secrets.\n",
            "To authenticate with the Hugging Face Hub, create a token in your settings tab (https://huggingface.co/settings/tokens), set it as secret in your Google Colab and restart your session.\n",
            "You will be able to reuse this secret in all of your notebooks.\n",
            "Please note that authentication is recommended but still optional to access public models or datasets.\n",
            "  warnings.warn(\n"
          ]
        }
      ]
    },
    {
      "cell_type": "code",
      "source": [
        "df4=pd.read_csv(\"/content/homonymsExamples.txt\")"
      ],
      "metadata": {
        "execution": {
          "iopub.status.busy": "2024-07-29T23:59:30.047466Z",
          "iopub.execute_input": "2024-07-29T23:59:30.048029Z",
          "iopub.status.idle": "2024-07-29T23:59:30.073652Z",
          "shell.execute_reply.started": "2024-07-29T23:59:30.047985Z",
          "shell.execute_reply": "2024-07-29T23:59:30.072363Z"
        },
        "trusted": true,
        "id": "r4-eiPkN5gJI"
      },
      "execution_count": 5,
      "outputs": []
    },
    {
      "cell_type": "code",
      "source": [
        "df4"
      ],
      "metadata": {
        "execution": {
          "iopub.status.busy": "2024-07-29T23:59:30.076956Z",
          "iopub.execute_input": "2024-07-29T23:59:30.077474Z",
          "iopub.status.idle": "2024-07-29T23:59:30.100969Z",
          "shell.execute_reply.started": "2024-07-29T23:59:30.077433Z",
          "shell.execute_reply": "2024-07-29T23:59:30.100105Z"
        },
        "trusted": true,
        "colab": {
          "base_uri": "https://localhost:8080/",
          "height": 423
        },
        "id": "_pmVN05A5gJJ",
        "outputId": "ef8dbb80-6022-470b-8127-a83ff5bd2e82"
      },
      "execution_count": 6,
      "outputs": [
        {
          "output_type": "execute_result",
          "data": {
            "text/plain": [
              "                    Your kindness never goes unnoticed.  Positive\n",
              "0                        I'm grateful for your support.  Positive\n",
              "1                  Your positive attitude is inspiring.  Positive\n",
              "2             Your encouragement means the world to me.  Positive\n",
              "3               You always know how to lift my spirits.  Positive\n",
              "4           Your thoughtfulness makes a big difference.  Positive\n",
              "...                                                 ...       ...\n",
              "2466  I don't love your straightforwardness, but it ...  POSITIVE\n",
              "2467  I don't like your intensity, but it means you ...  POSITIVE\n",
              "2468  I don't love your independence, but it shows s...  POSITIVE\n",
              "2469  I don't like your critical nature, but it show...  POSITIVE\n",
              "2470  I don't love your strictness, but it shows you...  POSITIVE\n",
              "\n",
              "[2471 rows x 2 columns]"
            ],
            "text/html": [
              "\n",
              "  <div id=\"df-9b7cf6f5-71b2-4e20-8545-e79cd5ea3858\" class=\"colab-df-container\">\n",
              "    <div>\n",
              "<style scoped>\n",
              "    .dataframe tbody tr th:only-of-type {\n",
              "        vertical-align: middle;\n",
              "    }\n",
              "\n",
              "    .dataframe tbody tr th {\n",
              "        vertical-align: top;\n",
              "    }\n",
              "\n",
              "    .dataframe thead th {\n",
              "        text-align: right;\n",
              "    }\n",
              "</style>\n",
              "<table border=\"1\" class=\"dataframe\">\n",
              "  <thead>\n",
              "    <tr style=\"text-align: right;\">\n",
              "      <th></th>\n",
              "      <th>Your kindness never goes unnoticed.</th>\n",
              "      <th>Positive</th>\n",
              "    </tr>\n",
              "  </thead>\n",
              "  <tbody>\n",
              "    <tr>\n",
              "      <th>0</th>\n",
              "      <td>I'm grateful for your support.</td>\n",
              "      <td>Positive</td>\n",
              "    </tr>\n",
              "    <tr>\n",
              "      <th>1</th>\n",
              "      <td>Your positive attitude is inspiring.</td>\n",
              "      <td>Positive</td>\n",
              "    </tr>\n",
              "    <tr>\n",
              "      <th>2</th>\n",
              "      <td>Your encouragement means the world to me.</td>\n",
              "      <td>Positive</td>\n",
              "    </tr>\n",
              "    <tr>\n",
              "      <th>3</th>\n",
              "      <td>You always know how to lift my spirits.</td>\n",
              "      <td>Positive</td>\n",
              "    </tr>\n",
              "    <tr>\n",
              "      <th>4</th>\n",
              "      <td>Your thoughtfulness makes a big difference.</td>\n",
              "      <td>Positive</td>\n",
              "    </tr>\n",
              "    <tr>\n",
              "      <th>...</th>\n",
              "      <td>...</td>\n",
              "      <td>...</td>\n",
              "    </tr>\n",
              "    <tr>\n",
              "      <th>2466</th>\n",
              "      <td>I don't love your straightforwardness, but it ...</td>\n",
              "      <td>POSITIVE</td>\n",
              "    </tr>\n",
              "    <tr>\n",
              "      <th>2467</th>\n",
              "      <td>I don't like your intensity, but it means you ...</td>\n",
              "      <td>POSITIVE</td>\n",
              "    </tr>\n",
              "    <tr>\n",
              "      <th>2468</th>\n",
              "      <td>I don't love your independence, but it shows s...</td>\n",
              "      <td>POSITIVE</td>\n",
              "    </tr>\n",
              "    <tr>\n",
              "      <th>2469</th>\n",
              "      <td>I don't like your critical nature, but it show...</td>\n",
              "      <td>POSITIVE</td>\n",
              "    </tr>\n",
              "    <tr>\n",
              "      <th>2470</th>\n",
              "      <td>I don't love your strictness, but it shows you...</td>\n",
              "      <td>POSITIVE</td>\n",
              "    </tr>\n",
              "  </tbody>\n",
              "</table>\n",
              "<p>2471 rows × 2 columns</p>\n",
              "</div>\n",
              "    <div class=\"colab-df-buttons\">\n",
              "\n",
              "  <div class=\"colab-df-container\">\n",
              "    <button class=\"colab-df-convert\" onclick=\"convertToInteractive('df-9b7cf6f5-71b2-4e20-8545-e79cd5ea3858')\"\n",
              "            title=\"Convert this dataframe to an interactive table.\"\n",
              "            style=\"display:none;\">\n",
              "\n",
              "  <svg xmlns=\"http://www.w3.org/2000/svg\" height=\"24px\" viewBox=\"0 -960 960 960\">\n",
              "    <path d=\"M120-120v-720h720v720H120Zm60-500h600v-160H180v160Zm220 220h160v-160H400v160Zm0 220h160v-160H400v160ZM180-400h160v-160H180v160Zm440 0h160v-160H620v160ZM180-180h160v-160H180v160Zm440 0h160v-160H620v160Z\"/>\n",
              "  </svg>\n",
              "    </button>\n",
              "\n",
              "  <style>\n",
              "    .colab-df-container {\n",
              "      display:flex;\n",
              "      gap: 12px;\n",
              "    }\n",
              "\n",
              "    .colab-df-convert {\n",
              "      background-color: #E8F0FE;\n",
              "      border: none;\n",
              "      border-radius: 50%;\n",
              "      cursor: pointer;\n",
              "      display: none;\n",
              "      fill: #1967D2;\n",
              "      height: 32px;\n",
              "      padding: 0 0 0 0;\n",
              "      width: 32px;\n",
              "    }\n",
              "\n",
              "    .colab-df-convert:hover {\n",
              "      background-color: #E2EBFA;\n",
              "      box-shadow: 0px 1px 2px rgba(60, 64, 67, 0.3), 0px 1px 3px 1px rgba(60, 64, 67, 0.15);\n",
              "      fill: #174EA6;\n",
              "    }\n",
              "\n",
              "    .colab-df-buttons div {\n",
              "      margin-bottom: 4px;\n",
              "    }\n",
              "\n",
              "    [theme=dark] .colab-df-convert {\n",
              "      background-color: #3B4455;\n",
              "      fill: #D2E3FC;\n",
              "    }\n",
              "\n",
              "    [theme=dark] .colab-df-convert:hover {\n",
              "      background-color: #434B5C;\n",
              "      box-shadow: 0px 1px 3px 1px rgba(0, 0, 0, 0.15);\n",
              "      filter: drop-shadow(0px 1px 2px rgba(0, 0, 0, 0.3));\n",
              "      fill: #FFFFFF;\n",
              "    }\n",
              "  </style>\n",
              "\n",
              "    <script>\n",
              "      const buttonEl =\n",
              "        document.querySelector('#df-9b7cf6f5-71b2-4e20-8545-e79cd5ea3858 button.colab-df-convert');\n",
              "      buttonEl.style.display =\n",
              "        google.colab.kernel.accessAllowed ? 'block' : 'none';\n",
              "\n",
              "      async function convertToInteractive(key) {\n",
              "        const element = document.querySelector('#df-9b7cf6f5-71b2-4e20-8545-e79cd5ea3858');\n",
              "        const dataTable =\n",
              "          await google.colab.kernel.invokeFunction('convertToInteractive',\n",
              "                                                    [key], {});\n",
              "        if (!dataTable) return;\n",
              "\n",
              "        const docLinkHtml = 'Like what you see? Visit the ' +\n",
              "          '<a target=\"_blank\" href=https://colab.research.google.com/notebooks/data_table.ipynb>data table notebook</a>'\n",
              "          + ' to learn more about interactive tables.';\n",
              "        element.innerHTML = '';\n",
              "        dataTable['output_type'] = 'display_data';\n",
              "        await google.colab.output.renderOutput(dataTable, element);\n",
              "        const docLink = document.createElement('div');\n",
              "        docLink.innerHTML = docLinkHtml;\n",
              "        element.appendChild(docLink);\n",
              "      }\n",
              "    </script>\n",
              "  </div>\n",
              "\n",
              "\n",
              "<div id=\"df-f0fec8b6-4cd2-4942-a086-ce43496c5167\">\n",
              "  <button class=\"colab-df-quickchart\" onclick=\"quickchart('df-f0fec8b6-4cd2-4942-a086-ce43496c5167')\"\n",
              "            title=\"Suggest charts\"\n",
              "            style=\"display:none;\">\n",
              "\n",
              "<svg xmlns=\"http://www.w3.org/2000/svg\" height=\"24px\"viewBox=\"0 0 24 24\"\n",
              "     width=\"24px\">\n",
              "    <g>\n",
              "        <path d=\"M19 3H5c-1.1 0-2 .9-2 2v14c0 1.1.9 2 2 2h14c1.1 0 2-.9 2-2V5c0-1.1-.9-2-2-2zM9 17H7v-7h2v7zm4 0h-2V7h2v10zm4 0h-2v-4h2v4z\"/>\n",
              "    </g>\n",
              "</svg>\n",
              "  </button>\n",
              "\n",
              "<style>\n",
              "  .colab-df-quickchart {\n",
              "      --bg-color: #E8F0FE;\n",
              "      --fill-color: #1967D2;\n",
              "      --hover-bg-color: #E2EBFA;\n",
              "      --hover-fill-color: #174EA6;\n",
              "      --disabled-fill-color: #AAA;\n",
              "      --disabled-bg-color: #DDD;\n",
              "  }\n",
              "\n",
              "  [theme=dark] .colab-df-quickchart {\n",
              "      --bg-color: #3B4455;\n",
              "      --fill-color: #D2E3FC;\n",
              "      --hover-bg-color: #434B5C;\n",
              "      --hover-fill-color: #FFFFFF;\n",
              "      --disabled-bg-color: #3B4455;\n",
              "      --disabled-fill-color: #666;\n",
              "  }\n",
              "\n",
              "  .colab-df-quickchart {\n",
              "    background-color: var(--bg-color);\n",
              "    border: none;\n",
              "    border-radius: 50%;\n",
              "    cursor: pointer;\n",
              "    display: none;\n",
              "    fill: var(--fill-color);\n",
              "    height: 32px;\n",
              "    padding: 0;\n",
              "    width: 32px;\n",
              "  }\n",
              "\n",
              "  .colab-df-quickchart:hover {\n",
              "    background-color: var(--hover-bg-color);\n",
              "    box-shadow: 0 1px 2px rgba(60, 64, 67, 0.3), 0 1px 3px 1px rgba(60, 64, 67, 0.15);\n",
              "    fill: var(--button-hover-fill-color);\n",
              "  }\n",
              "\n",
              "  .colab-df-quickchart-complete:disabled,\n",
              "  .colab-df-quickchart-complete:disabled:hover {\n",
              "    background-color: var(--disabled-bg-color);\n",
              "    fill: var(--disabled-fill-color);\n",
              "    box-shadow: none;\n",
              "  }\n",
              "\n",
              "  .colab-df-spinner {\n",
              "    border: 2px solid var(--fill-color);\n",
              "    border-color: transparent;\n",
              "    border-bottom-color: var(--fill-color);\n",
              "    animation:\n",
              "      spin 1s steps(1) infinite;\n",
              "  }\n",
              "\n",
              "  @keyframes spin {\n",
              "    0% {\n",
              "      border-color: transparent;\n",
              "      border-bottom-color: var(--fill-color);\n",
              "      border-left-color: var(--fill-color);\n",
              "    }\n",
              "    20% {\n",
              "      border-color: transparent;\n",
              "      border-left-color: var(--fill-color);\n",
              "      border-top-color: var(--fill-color);\n",
              "    }\n",
              "    30% {\n",
              "      border-color: transparent;\n",
              "      border-left-color: var(--fill-color);\n",
              "      border-top-color: var(--fill-color);\n",
              "      border-right-color: var(--fill-color);\n",
              "    }\n",
              "    40% {\n",
              "      border-color: transparent;\n",
              "      border-right-color: var(--fill-color);\n",
              "      border-top-color: var(--fill-color);\n",
              "    }\n",
              "    60% {\n",
              "      border-color: transparent;\n",
              "      border-right-color: var(--fill-color);\n",
              "    }\n",
              "    80% {\n",
              "      border-color: transparent;\n",
              "      border-right-color: var(--fill-color);\n",
              "      border-bottom-color: var(--fill-color);\n",
              "    }\n",
              "    90% {\n",
              "      border-color: transparent;\n",
              "      border-bottom-color: var(--fill-color);\n",
              "    }\n",
              "  }\n",
              "</style>\n",
              "\n",
              "  <script>\n",
              "    async function quickchart(key) {\n",
              "      const quickchartButtonEl =\n",
              "        document.querySelector('#' + key + ' button');\n",
              "      quickchartButtonEl.disabled = true;  // To prevent multiple clicks.\n",
              "      quickchartButtonEl.classList.add('colab-df-spinner');\n",
              "      try {\n",
              "        const charts = await google.colab.kernel.invokeFunction(\n",
              "            'suggestCharts', [key], {});\n",
              "      } catch (error) {\n",
              "        console.error('Error during call to suggestCharts:', error);\n",
              "      }\n",
              "      quickchartButtonEl.classList.remove('colab-df-spinner');\n",
              "      quickchartButtonEl.classList.add('colab-df-quickchart-complete');\n",
              "    }\n",
              "    (() => {\n",
              "      let quickchartButtonEl =\n",
              "        document.querySelector('#df-f0fec8b6-4cd2-4942-a086-ce43496c5167 button');\n",
              "      quickchartButtonEl.style.display =\n",
              "        google.colab.kernel.accessAllowed ? 'block' : 'none';\n",
              "    })();\n",
              "  </script>\n",
              "</div>\n",
              "\n",
              "  <div id=\"id_25a26769-3560-4e37-ad21-ed32fccabfcd\">\n",
              "    <style>\n",
              "      .colab-df-generate {\n",
              "        background-color: #E8F0FE;\n",
              "        border: none;\n",
              "        border-radius: 50%;\n",
              "        cursor: pointer;\n",
              "        display: none;\n",
              "        fill: #1967D2;\n",
              "        height: 32px;\n",
              "        padding: 0 0 0 0;\n",
              "        width: 32px;\n",
              "      }\n",
              "\n",
              "      .colab-df-generate:hover {\n",
              "        background-color: #E2EBFA;\n",
              "        box-shadow: 0px 1px 2px rgba(60, 64, 67, 0.3), 0px 1px 3px 1px rgba(60, 64, 67, 0.15);\n",
              "        fill: #174EA6;\n",
              "      }\n",
              "\n",
              "      [theme=dark] .colab-df-generate {\n",
              "        background-color: #3B4455;\n",
              "        fill: #D2E3FC;\n",
              "      }\n",
              "\n",
              "      [theme=dark] .colab-df-generate:hover {\n",
              "        background-color: #434B5C;\n",
              "        box-shadow: 0px 1px 3px 1px rgba(0, 0, 0, 0.15);\n",
              "        filter: drop-shadow(0px 1px 2px rgba(0, 0, 0, 0.3));\n",
              "        fill: #FFFFFF;\n",
              "      }\n",
              "    </style>\n",
              "    <button class=\"colab-df-generate\" onclick=\"generateWithVariable('df4')\"\n",
              "            title=\"Generate code using this dataframe.\"\n",
              "            style=\"display:none;\">\n",
              "\n",
              "  <svg xmlns=\"http://www.w3.org/2000/svg\" height=\"24px\"viewBox=\"0 0 24 24\"\n",
              "       width=\"24px\">\n",
              "    <path d=\"M7,19H8.4L18.45,9,17,7.55,7,17.6ZM5,21V16.75L18.45,3.32a2,2,0,0,1,2.83,0l1.4,1.43a1.91,1.91,0,0,1,.58,1.4,1.91,1.91,0,0,1-.58,1.4L9.25,21ZM18.45,9,17,7.55Zm-12,3A5.31,5.31,0,0,0,4.9,8.1,5.31,5.31,0,0,0,1,6.5,5.31,5.31,0,0,0,4.9,4.9,5.31,5.31,0,0,0,6.5,1,5.31,5.31,0,0,0,8.1,4.9,5.31,5.31,0,0,0,12,6.5,5.46,5.46,0,0,0,6.5,12Z\"/>\n",
              "  </svg>\n",
              "    </button>\n",
              "    <script>\n",
              "      (() => {\n",
              "      const buttonEl =\n",
              "        document.querySelector('#id_25a26769-3560-4e37-ad21-ed32fccabfcd button.colab-df-generate');\n",
              "      buttonEl.style.display =\n",
              "        google.colab.kernel.accessAllowed ? 'block' : 'none';\n",
              "\n",
              "      buttonEl.onclick = () => {\n",
              "        google.colab.notebook.generateWithVariable('df4');\n",
              "      }\n",
              "      })();\n",
              "    </script>\n",
              "  </div>\n",
              "\n",
              "    </div>\n",
              "  </div>\n"
            ],
            "application/vnd.google.colaboratory.intrinsic+json": {
              "type": "dataframe",
              "variable_name": "df4",
              "summary": "{\n  \"name\": \"df4\",\n  \"rows\": 2471,\n  \"fields\": [\n    {\n      \"column\": \"Your kindness never goes unnoticed.\",\n      \"properties\": {\n        \"dtype\": \"category\",\n        \"num_unique_values\": 1185,\n        \"samples\": [\n          \"I care about my appearance\",\n          \"I didn't expect to be so impressed, but your work was outstanding.\",\n          \"I don't like your intensity, but it means you are passionate\"\n        ],\n        \"semantic_type\": \"\",\n        \"description\": \"\"\n      }\n    },\n    {\n      \"column\": \"Positive\",\n      \"properties\": {\n        \"dtype\": \"category\",\n        \"num_unique_values\": 4,\n        \"samples\": [\n          \"POSITIVE\",\n          \"POSTIVE\",\n          \"Positive\"\n        ],\n        \"semantic_type\": \"\",\n        \"description\": \"\"\n      }\n    }\n  ]\n}"
            }
          },
          "metadata": {},
          "execution_count": 6
        }
      ]
    },
    {
      "cell_type": "code",
      "source": [
        "df4.columns = [\"text\", \"label\"]\n",
        "df4[\"label\"]=df4[\"label\"].apply(lambda x:0 if x==\"NEGATIVE\" else 1)"
      ],
      "metadata": {
        "execution": {
          "iopub.status.busy": "2024-07-29T23:59:30.102269Z",
          "iopub.execute_input": "2024-07-29T23:59:30.102851Z",
          "iopub.status.idle": "2024-07-29T23:59:30.108829Z",
          "shell.execute_reply.started": "2024-07-29T23:59:30.102827Z",
          "shell.execute_reply": "2024-07-29T23:59:30.108231Z"
        },
        "trusted": true,
        "id": "2yKmZ_1y5gJN"
      },
      "execution_count": null,
      "outputs": []
    },
    {
      "cell_type": "markdown",
      "source": [
        "### Check duplicates"
      ],
      "metadata": {
        "id": "Kg67_fNr5gJO"
      }
    },
    {
      "cell_type": "code",
      "source": [
        "df4=df4.drop_duplicates(subset=['text'])"
      ],
      "metadata": {
        "execution": {
          "iopub.status.busy": "2024-07-29T23:59:30.109743Z",
          "iopub.execute_input": "2024-07-29T23:59:30.110442Z",
          "iopub.status.idle": "2024-07-29T23:59:30.123567Z",
          "shell.execute_reply.started": "2024-07-29T23:59:30.110419Z",
          "shell.execute_reply": "2024-07-29T23:59:30.122892Z"
        },
        "trusted": true,
        "id": "mz6c0opl5gJP"
      },
      "execution_count": null,
      "outputs": []
    },
    {
      "cell_type": "code",
      "source": [
        "df4[\"text\"].duplicated().sum()"
      ],
      "metadata": {
        "execution": {
          "iopub.status.busy": "2024-07-29T23:59:30.124481Z",
          "iopub.execute_input": "2024-07-29T23:59:30.125093Z",
          "iopub.status.idle": "2024-07-29T23:59:30.136194Z",
          "shell.execute_reply.started": "2024-07-29T23:59:30.125069Z",
          "shell.execute_reply": "2024-07-29T23:59:30.135260Z"
        },
        "trusted": true,
        "id": "8wnLbgy35gJQ",
        "outputId": "cfe57402-dd9a-4fa5-9afb-750cd25e8363"
      },
      "execution_count": null,
      "outputs": [
        {
          "execution_count": 7,
          "output_type": "execute_result",
          "data": {
            "text/plain": "0"
          },
          "metadata": {}
        }
      ]
    },
    {
      "cell_type": "code",
      "source": [
        "df4"
      ],
      "metadata": {
        "execution": {
          "iopub.status.busy": "2024-07-29T23:59:30.137508Z",
          "iopub.execute_input": "2024-07-29T23:59:30.137769Z",
          "iopub.status.idle": "2024-07-29T23:59:30.147072Z",
          "shell.execute_reply.started": "2024-07-29T23:59:30.137747Z",
          "shell.execute_reply": "2024-07-29T23:59:30.146148Z"
        },
        "trusted": true,
        "id": "ZMIo3iej5gJR",
        "outputId": "494f5d62-e9ff-44b7-b2ce-c21be365cae3"
      },
      "execution_count": null,
      "outputs": [
        {
          "execution_count": 8,
          "output_type": "execute_result",
          "data": {
            "text/plain": "                                                   text  label\n0                        I'm grateful for your support.      1\n1                  Your positive attitude is inspiring.      1\n2             Your encouragement means the world to me.      1\n3               You always know how to lift my spirits.      1\n4           Your thoughtfulness makes a big difference.      1\n...                                                 ...    ...\n2466  I don't love your straightforwardness, but it ...      1\n2467  I don't like your intensity, but it means you ...      1\n2468  I don't love your independence, but it shows s...      1\n2469  I don't like your critical nature, but it show...      1\n2470  I don't love your strictness, but it shows you...      1\n\n[1185 rows x 2 columns]",
            "text/html": "<div>\n<style scoped>\n    .dataframe tbody tr th:only-of-type {\n        vertical-align: middle;\n    }\n\n    .dataframe tbody tr th {\n        vertical-align: top;\n    }\n\n    .dataframe thead th {\n        text-align: right;\n    }\n</style>\n<table border=\"1\" class=\"dataframe\">\n  <thead>\n    <tr style=\"text-align: right;\">\n      <th></th>\n      <th>text</th>\n      <th>label</th>\n    </tr>\n  </thead>\n  <tbody>\n    <tr>\n      <th>0</th>\n      <td>I'm grateful for your support.</td>\n      <td>1</td>\n    </tr>\n    <tr>\n      <th>1</th>\n      <td>Your positive attitude is inspiring.</td>\n      <td>1</td>\n    </tr>\n    <tr>\n      <th>2</th>\n      <td>Your encouragement means the world to me.</td>\n      <td>1</td>\n    </tr>\n    <tr>\n      <th>3</th>\n      <td>You always know how to lift my spirits.</td>\n      <td>1</td>\n    </tr>\n    <tr>\n      <th>4</th>\n      <td>Your thoughtfulness makes a big difference.</td>\n      <td>1</td>\n    </tr>\n    <tr>\n      <th>...</th>\n      <td>...</td>\n      <td>...</td>\n    </tr>\n    <tr>\n      <th>2466</th>\n      <td>I don't love your straightforwardness, but it ...</td>\n      <td>1</td>\n    </tr>\n    <tr>\n      <th>2467</th>\n      <td>I don't like your intensity, but it means you ...</td>\n      <td>1</td>\n    </tr>\n    <tr>\n      <th>2468</th>\n      <td>I don't love your independence, but it shows s...</td>\n      <td>1</td>\n    </tr>\n    <tr>\n      <th>2469</th>\n      <td>I don't like your critical nature, but it show...</td>\n      <td>1</td>\n    </tr>\n    <tr>\n      <th>2470</th>\n      <td>I don't love your strictness, but it shows you...</td>\n      <td>1</td>\n    </tr>\n  </tbody>\n</table>\n<p>1185 rows × 2 columns</p>\n</div>"
          },
          "metadata": {}
        }
      ]
    },
    {
      "cell_type": "markdown",
      "source": [
        "### Rename columns"
      ],
      "metadata": {
        "id": "x7DQBTUs5gJR"
      }
    },
    {
      "cell_type": "code",
      "source": [
        "df6_Train[\"text\"]=df6_Train[\"sentence\"]\n",
        "df6_Vals[\"text\"]=df6_Vals[\"sentence\"]\n",
        "df6_Train=df6_Train[[\"text\",\"label\"]]\n",
        "df6_Vals=df6_Vals[[\"text\",\"label\"]]"
      ],
      "metadata": {
        "execution": {
          "iopub.status.busy": "2024-07-29T23:59:30.148400Z",
          "iopub.execute_input": "2024-07-29T23:59:30.149001Z",
          "iopub.status.idle": "2024-07-29T23:59:30.161965Z",
          "shell.execute_reply.started": "2024-07-29T23:59:30.148971Z",
          "shell.execute_reply": "2024-07-29T23:59:30.160892Z"
        },
        "trusted": true,
        "id": "e01chQRI5gJS"
      },
      "execution_count": null,
      "outputs": []
    },
    {
      "cell_type": "code",
      "source": [
        "df6_Vals"
      ],
      "metadata": {
        "execution": {
          "iopub.status.busy": "2024-07-29T23:59:30.165291Z",
          "iopub.execute_input": "2024-07-29T23:59:30.165554Z",
          "iopub.status.idle": "2024-07-29T23:59:30.175137Z",
          "shell.execute_reply.started": "2024-07-29T23:59:30.165532Z",
          "shell.execute_reply": "2024-07-29T23:59:30.174244Z"
        },
        "trusted": true,
        "id": "FOmWiwDb5gJT",
        "outputId": "c473f7bd-809a-402c-ee6e-38a2c915fc94"
      },
      "execution_count": null,
      "outputs": [
        {
          "execution_count": 10,
          "output_type": "execute_result",
          "data": {
            "text/plain": "                                                  text  label\n0      it 's a charming and often affecting journey .       1\n1                   unflinchingly bleak and desperate       0\n2    allows us to hope that nolan is poised to emba...      1\n3    the acting , costumes , music , cinematography...      1\n4                    it 's slow -- very , very slow .       0\n..                                                 ...    ...\n867              has all the depth of a wading pool .       0\n868              a movie with a real anarchic flair .       1\n869  a subject like this should inspire reaction in...      0\n870  ... is an arthritic attempt at directing by ca...      0\n871  looking aristocratic , luminous yet careworn i...      1\n\n[872 rows x 2 columns]",
            "text/html": "<div>\n<style scoped>\n    .dataframe tbody tr th:only-of-type {\n        vertical-align: middle;\n    }\n\n    .dataframe tbody tr th {\n        vertical-align: top;\n    }\n\n    .dataframe thead th {\n        text-align: right;\n    }\n</style>\n<table border=\"1\" class=\"dataframe\">\n  <thead>\n    <tr style=\"text-align: right;\">\n      <th></th>\n      <th>text</th>\n      <th>label</th>\n    </tr>\n  </thead>\n  <tbody>\n    <tr>\n      <th>0</th>\n      <td>it 's a charming and often affecting journey .</td>\n      <td>1</td>\n    </tr>\n    <tr>\n      <th>1</th>\n      <td>unflinchingly bleak and desperate</td>\n      <td>0</td>\n    </tr>\n    <tr>\n      <th>2</th>\n      <td>allows us to hope that nolan is poised to emba...</td>\n      <td>1</td>\n    </tr>\n    <tr>\n      <th>3</th>\n      <td>the acting , costumes , music , cinematography...</td>\n      <td>1</td>\n    </tr>\n    <tr>\n      <th>4</th>\n      <td>it 's slow -- very , very slow .</td>\n      <td>0</td>\n    </tr>\n    <tr>\n      <th>...</th>\n      <td>...</td>\n      <td>...</td>\n    </tr>\n    <tr>\n      <th>867</th>\n      <td>has all the depth of a wading pool .</td>\n      <td>0</td>\n    </tr>\n    <tr>\n      <th>868</th>\n      <td>a movie with a real anarchic flair .</td>\n      <td>1</td>\n    </tr>\n    <tr>\n      <th>869</th>\n      <td>a subject like this should inspire reaction in...</td>\n      <td>0</td>\n    </tr>\n    <tr>\n      <th>870</th>\n      <td>... is an arthritic attempt at directing by ca...</td>\n      <td>0</td>\n    </tr>\n    <tr>\n      <th>871</th>\n      <td>looking aristocratic , luminous yet careworn i...</td>\n      <td>1</td>\n    </tr>\n  </tbody>\n</table>\n<p>872 rows × 2 columns</p>\n</div>"
          },
          "metadata": {}
        }
      ]
    },
    {
      "cell_type": "markdown",
      "source": [
        "#### Add Custom data to the main train data"
      ],
      "metadata": {
        "id": "TT6vI8vp5gJU"
      }
    },
    {
      "cell_type": "code",
      "source": [
        "combined_df = pd.concat([df6_Train,df4], ignore_index=True)\n",
        "combined_df"
      ],
      "metadata": {
        "execution": {
          "iopub.status.busy": "2024-07-29T23:59:30.176373Z",
          "iopub.execute_input": "2024-07-29T23:59:30.177072Z",
          "iopub.status.idle": "2024-07-29T23:59:30.190803Z",
          "shell.execute_reply.started": "2024-07-29T23:59:30.177042Z",
          "shell.execute_reply": "2024-07-29T23:59:30.189649Z"
        },
        "trusted": true,
        "id": "H0tcFthm5gJU",
        "outputId": "2115ae5f-d9a9-4349-eb81-208b26c728b2"
      },
      "execution_count": null,
      "outputs": [
        {
          "execution_count": 11,
          "output_type": "execute_result",
          "data": {
            "text/plain": "                                                    text  label\n0           hide new secretions from the parental units       0\n1                   contains no wit , only labored gags       0\n2      that loves its characters and communicates som...      1\n3      remains utterly satisfied to remain the same t...      0\n4      on the worst revenge-of-the-nerds clichés the ...      0\n...                                                  ...    ...\n68529  I don't love your straightforwardness, but it ...      1\n68530  I don't like your intensity, but it means you ...      1\n68531  I don't love your independence, but it shows s...      1\n68532  I don't like your critical nature, but it show...      1\n68533  I don't love your strictness, but it shows you...      1\n\n[68534 rows x 2 columns]",
            "text/html": "<div>\n<style scoped>\n    .dataframe tbody tr th:only-of-type {\n        vertical-align: middle;\n    }\n\n    .dataframe tbody tr th {\n        vertical-align: top;\n    }\n\n    .dataframe thead th {\n        text-align: right;\n    }\n</style>\n<table border=\"1\" class=\"dataframe\">\n  <thead>\n    <tr style=\"text-align: right;\">\n      <th></th>\n      <th>text</th>\n      <th>label</th>\n    </tr>\n  </thead>\n  <tbody>\n    <tr>\n      <th>0</th>\n      <td>hide new secretions from the parental units</td>\n      <td>0</td>\n    </tr>\n    <tr>\n      <th>1</th>\n      <td>contains no wit , only labored gags</td>\n      <td>0</td>\n    </tr>\n    <tr>\n      <th>2</th>\n      <td>that loves its characters and communicates som...</td>\n      <td>1</td>\n    </tr>\n    <tr>\n      <th>3</th>\n      <td>remains utterly satisfied to remain the same t...</td>\n      <td>0</td>\n    </tr>\n    <tr>\n      <th>4</th>\n      <td>on the worst revenge-of-the-nerds clichés the ...</td>\n      <td>0</td>\n    </tr>\n    <tr>\n      <th>...</th>\n      <td>...</td>\n      <td>...</td>\n    </tr>\n    <tr>\n      <th>68529</th>\n      <td>I don't love your straightforwardness, but it ...</td>\n      <td>1</td>\n    </tr>\n    <tr>\n      <th>68530</th>\n      <td>I don't like your intensity, but it means you ...</td>\n      <td>1</td>\n    </tr>\n    <tr>\n      <th>68531</th>\n      <td>I don't love your independence, but it shows s...</td>\n      <td>1</td>\n    </tr>\n    <tr>\n      <th>68532</th>\n      <td>I don't like your critical nature, but it show...</td>\n      <td>1</td>\n    </tr>\n    <tr>\n      <th>68533</th>\n      <td>I don't love your strictness, but it shows you...</td>\n      <td>1</td>\n    </tr>\n  </tbody>\n</table>\n<p>68534 rows × 2 columns</p>\n</div>"
          },
          "metadata": {}
        }
      ]
    },
    {
      "cell_type": "markdown",
      "source": [
        "### Check the labels counts"
      ],
      "metadata": {
        "id": "qGXN7mx15gJU"
      }
    },
    {
      "cell_type": "code",
      "source": [
        "combined_df[\"label\"].value_counts()"
      ],
      "metadata": {
        "execution": {
          "iopub.status.busy": "2024-07-29T23:59:30.191924Z",
          "iopub.execute_input": "2024-07-29T23:59:30.192538Z",
          "iopub.status.idle": "2024-07-29T23:59:30.203972Z",
          "shell.execute_reply.started": "2024-07-29T23:59:30.192508Z",
          "shell.execute_reply": "2024-07-29T23:59:30.202806Z"
        },
        "trusted": true,
        "id": "1IaHPjV95gJV",
        "outputId": "9c4d7b18-3f87-4ccb-c2ad-12bc695e9879"
      },
      "execution_count": null,
      "outputs": [
        {
          "execution_count": 12,
          "output_type": "execute_result",
          "data": {
            "text/plain": "label\n1    38489\n0    30045\nName: count, dtype: int64"
          },
          "metadata": {}
        }
      ]
    },
    {
      "cell_type": "code",
      "source": [
        "df=combined_df\n",
        "df"
      ],
      "metadata": {
        "execution": {
          "iopub.status.busy": "2024-07-29T23:59:30.205216Z",
          "iopub.execute_input": "2024-07-29T23:59:30.205554Z",
          "iopub.status.idle": "2024-07-29T23:59:30.220490Z",
          "shell.execute_reply.started": "2024-07-29T23:59:30.205525Z",
          "shell.execute_reply": "2024-07-29T23:59:30.219506Z"
        },
        "trusted": true,
        "id": "yvvjWMTk5gJW",
        "outputId": "509641ab-6701-4eb0-d2e5-8011647a33f0"
      },
      "execution_count": null,
      "outputs": [
        {
          "execution_count": 13,
          "output_type": "execute_result",
          "data": {
            "text/plain": "                                                    text  label\n0           hide new secretions from the parental units       0\n1                   contains no wit , only labored gags       0\n2      that loves its characters and communicates som...      1\n3      remains utterly satisfied to remain the same t...      0\n4      on the worst revenge-of-the-nerds clichés the ...      0\n...                                                  ...    ...\n68529  I don't love your straightforwardness, but it ...      1\n68530  I don't like your intensity, but it means you ...      1\n68531  I don't love your independence, but it shows s...      1\n68532  I don't like your critical nature, but it show...      1\n68533  I don't love your strictness, but it shows you...      1\n\n[68534 rows x 2 columns]",
            "text/html": "<div>\n<style scoped>\n    .dataframe tbody tr th:only-of-type {\n        vertical-align: middle;\n    }\n\n    .dataframe tbody tr th {\n        vertical-align: top;\n    }\n\n    .dataframe thead th {\n        text-align: right;\n    }\n</style>\n<table border=\"1\" class=\"dataframe\">\n  <thead>\n    <tr style=\"text-align: right;\">\n      <th></th>\n      <th>text</th>\n      <th>label</th>\n    </tr>\n  </thead>\n  <tbody>\n    <tr>\n      <th>0</th>\n      <td>hide new secretions from the parental units</td>\n      <td>0</td>\n    </tr>\n    <tr>\n      <th>1</th>\n      <td>contains no wit , only labored gags</td>\n      <td>0</td>\n    </tr>\n    <tr>\n      <th>2</th>\n      <td>that loves its characters and communicates som...</td>\n      <td>1</td>\n    </tr>\n    <tr>\n      <th>3</th>\n      <td>remains utterly satisfied to remain the same t...</td>\n      <td>0</td>\n    </tr>\n    <tr>\n      <th>4</th>\n      <td>on the worst revenge-of-the-nerds clichés the ...</td>\n      <td>0</td>\n    </tr>\n    <tr>\n      <th>...</th>\n      <td>...</td>\n      <td>...</td>\n    </tr>\n    <tr>\n      <th>68529</th>\n      <td>I don't love your straightforwardness, but it ...</td>\n      <td>1</td>\n    </tr>\n    <tr>\n      <th>68530</th>\n      <td>I don't like your intensity, but it means you ...</td>\n      <td>1</td>\n    </tr>\n    <tr>\n      <th>68531</th>\n      <td>I don't love your independence, but it shows s...</td>\n      <td>1</td>\n    </tr>\n    <tr>\n      <th>68532</th>\n      <td>I don't like your critical nature, but it show...</td>\n      <td>1</td>\n    </tr>\n    <tr>\n      <th>68533</th>\n      <td>I don't love your strictness, but it shows you...</td>\n      <td>1</td>\n    </tr>\n  </tbody>\n</table>\n<p>68534 rows × 2 columns</p>\n</div>"
          },
          "metadata": {}
        }
      ]
    },
    {
      "cell_type": "code",
      "source": [
        "df[\"label\"].value_counts()"
      ],
      "metadata": {
        "execution": {
          "iopub.status.busy": "2024-07-29T23:59:30.221654Z",
          "iopub.execute_input": "2024-07-29T23:59:30.222013Z",
          "iopub.status.idle": "2024-07-29T23:59:30.240424Z",
          "shell.execute_reply.started": "2024-07-29T23:59:30.221983Z",
          "shell.execute_reply": "2024-07-29T23:59:30.239558Z"
        },
        "trusted": true,
        "id": "BzbCpiFp5gJW",
        "outputId": "a4f0148b-ea66-4a08-f9ff-d452b5686f8e"
      },
      "execution_count": null,
      "outputs": [
        {
          "execution_count": 14,
          "output_type": "execute_result",
          "data": {
            "text/plain": "label\n1    38489\n0    30045\nName: count, dtype: int64"
          },
          "metadata": {}
        }
      ]
    },
    {
      "cell_type": "markdown",
      "source": [
        "### Preprocessing Sentences"
      ],
      "metadata": {
        "id": "bjYzZhEt5gJX"
      }
    },
    {
      "cell_type": "code",
      "source": [
        "def normalizeString(text):\n",
        "    # Convert to lowercase\n",
        "    text = text.lower().strip()\n",
        "\n",
        "    # Remove punctuation and numbers\n",
        "    text = re.sub(r'[^\\w\\s]', '', text)\n",
        "    text = re.sub(r'\\d+', '', text)\n",
        "\n",
        "    # Tokenization\n",
        "    tokens = word_tokenize(text)\n",
        "\n",
        "    # Remove stop words\n",
        "    stop_words = set(stopwords.words('english'))\n",
        "    tokens = [word for word in tokens if word not in stop_words]\n",
        "\n",
        "#     # Stemming\n",
        "#     stemmer = PorterStemmer()\n",
        "#     tokens = [stemmer.stem(word) for word in tokens]\n",
        "\n",
        "    # Rejoin tokens into a single string\n",
        "    return ' '.join(tokens)"
      ],
      "metadata": {
        "execution": {
          "iopub.status.busy": "2024-07-29T23:59:30.243454Z",
          "iopub.execute_input": "2024-07-29T23:59:30.243719Z",
          "iopub.status.idle": "2024-07-29T23:59:30.251353Z",
          "shell.execute_reply.started": "2024-07-29T23:59:30.243697Z",
          "shell.execute_reply": "2024-07-29T23:59:30.250503Z"
        },
        "trusted": true,
        "id": "SmOIeK3q5gJX"
      },
      "execution_count": null,
      "outputs": []
    },
    {
      "cell_type": "markdown",
      "source": [
        "### Apply on train data"
      ],
      "metadata": {
        "id": "wod72vLQ5gJX"
      }
    },
    {
      "cell_type": "code",
      "source": [
        "df[\"text\"]=df[\"text\"].progress_apply(normalizeString)"
      ],
      "metadata": {
        "execution": {
          "iopub.status.busy": "2024-07-29T23:59:30.252585Z",
          "iopub.execute_input": "2024-07-29T23:59:30.252956Z",
          "iopub.status.idle": "2024-07-29T23:59:52.360430Z",
          "shell.execute_reply.started": "2024-07-29T23:59:30.252911Z",
          "shell.execute_reply": "2024-07-29T23:59:52.359708Z"
        },
        "trusted": true,
        "colab": {
          "referenced_widgets": [
            "955445e66ca445169e127f2e9823f6e7"
          ]
        },
        "id": "AN92W6fY5gJY",
        "outputId": "13731337-a29a-46a9-c2ce-5d50fa56e2b5"
      },
      "execution_count": null,
      "outputs": [
        {
          "output_type": "display_data",
          "data": {
            "text/plain": "  0%|          | 0/68534 [00:00<?, ?it/s]",
            "application/vnd.jupyter.widget-view+json": {
              "version_major": 2,
              "version_minor": 0,
              "model_id": "955445e66ca445169e127f2e9823f6e7"
            }
          },
          "metadata": {}
        }
      ]
    },
    {
      "cell_type": "markdown",
      "source": [
        "### Apply on validation data"
      ],
      "metadata": {
        "id": "Ynb2qjNu5gJY"
      }
    },
    {
      "cell_type": "code",
      "source": [
        "df6_Vals[\"text\"]=df6_Vals[\"text\"].progress_apply(normalizeString)"
      ],
      "metadata": {
        "execution": {
          "iopub.status.busy": "2024-07-29T23:59:52.361548Z",
          "iopub.execute_input": "2024-07-29T23:59:52.361915Z",
          "iopub.status.idle": "2024-07-29T23:59:52.727051Z",
          "shell.execute_reply.started": "2024-07-29T23:59:52.361882Z",
          "shell.execute_reply": "2024-07-29T23:59:52.726166Z"
        },
        "trusted": true,
        "colab": {
          "referenced_widgets": [
            "5f71914c169e438896d4822145a5d4b6"
          ]
        },
        "id": "Iy94PRwH5gJZ",
        "outputId": "6077f9ae-14ac-4b25-d11f-bdc820af1780"
      },
      "execution_count": null,
      "outputs": [
        {
          "output_type": "display_data",
          "data": {
            "text/plain": "  0%|          | 0/872 [00:00<?, ?it/s]",
            "application/vnd.jupyter.widget-view+json": {
              "version_major": 2,
              "version_minor": 0,
              "model_id": "5f71914c169e438896d4822145a5d4b6"
            }
          },
          "metadata": {}
        }
      ]
    },
    {
      "cell_type": "markdown",
      "source": [
        "# Approach-1 Training BI-LSTM Model and it's embeedings"
      ],
      "metadata": {
        "id": "D4iCMX0r5gJa"
      }
    },
    {
      "cell_type": "markdown",
      "source": [
        "## Define tokenizer"
      ],
      "metadata": {
        "id": "u7FYIOCp5gJa"
      }
    },
    {
      "cell_type": "code",
      "source": [
        "tokenizer = get_tokenizer('basic_english')"
      ],
      "metadata": {
        "execution": {
          "iopub.status.busy": "2024-07-29T23:59:52.728097Z",
          "iopub.execute_input": "2024-07-29T23:59:52.728383Z",
          "iopub.status.idle": "2024-07-29T23:59:52.732645Z",
          "shell.execute_reply.started": "2024-07-29T23:59:52.728349Z",
          "shell.execute_reply": "2024-07-29T23:59:52.731694Z"
        },
        "trusted": true,
        "id": "B-9vnbDr5gJb"
      },
      "execution_count": null,
      "outputs": []
    },
    {
      "cell_type": "markdown",
      "source": [
        "## Get max length in the data"
      ],
      "metadata": {
        "id": "_LZGjZlQ5gJb"
      }
    },
    {
      "cell_type": "code",
      "source": [
        "maxLength=max([len(tokenizer(sent)) for sent in tqdm(df[\"text\"].values)])"
      ],
      "metadata": {
        "execution": {
          "iopub.status.busy": "2024-07-29T23:59:52.733708Z",
          "iopub.execute_input": "2024-07-29T23:59:52.734042Z",
          "iopub.status.idle": "2024-07-29T23:59:53.334138Z",
          "shell.execute_reply.started": "2024-07-29T23:59:52.734019Z",
          "shell.execute_reply": "2024-07-29T23:59:53.333116Z"
        },
        "trusted": true,
        "colab": {
          "referenced_widgets": [
            "7a07c28d7607489b843a417c92c6921e"
          ]
        },
        "id": "J5yCVQx_5gJc",
        "outputId": "7e5acf56-add0-4f49-ba6c-a7238bc1fce9"
      },
      "execution_count": null,
      "outputs": [
        {
          "output_type": "display_data",
          "data": {
            "text/plain": "  0%|          | 0/68534 [00:00<?, ?it/s]",
            "application/vnd.jupyter.widget-view+json": {
              "version_major": 2,
              "version_minor": 0,
              "model_id": "7a07c28d7607489b843a417c92c6921e"
            }
          },
          "metadata": {}
        }
      ]
    },
    {
      "cell_type": "code",
      "source": [
        "maxLength"
      ],
      "metadata": {
        "execution": {
          "iopub.status.busy": "2024-07-29T23:59:53.335246Z",
          "iopub.execute_input": "2024-07-29T23:59:53.335602Z",
          "iopub.status.idle": "2024-07-29T23:59:53.341301Z",
          "shell.execute_reply.started": "2024-07-29T23:59:53.335567Z",
          "shell.execute_reply": "2024-07-29T23:59:53.340486Z"
        },
        "trusted": true,
        "id": "XK5wEdaq5gJd",
        "outputId": "6d6672cb-edb4-4065-8ed6-27b9c70ec8f4"
      },
      "execution_count": null,
      "outputs": [
        {
          "execution_count": 20,
          "output_type": "execute_result",
          "data": {
            "text/plain": "28"
          },
          "metadata": {}
        }
      ]
    },
    {
      "cell_type": "markdown",
      "source": [
        "## Create vocabulary"
      ],
      "metadata": {
        "id": "ounsHliZ5gJd"
      }
    },
    {
      "cell_type": "code",
      "source": [
        "vocab=[\"<pad>\",\"<unk>\"]\n",
        "for sent in tqdm(df[\"text\"].values):\n",
        "    vocab+=tokenizer(sent)\n",
        "vocab=list(set(vocab))\n",
        "word_to_index={word:idx for idx,word in enumerate(vocab)}"
      ],
      "metadata": {
        "execution": {
          "iopub.status.busy": "2024-07-29T23:59:53.342562Z",
          "iopub.execute_input": "2024-07-29T23:59:53.342835Z",
          "iopub.status.idle": "2024-07-29T23:59:53.984703Z",
          "shell.execute_reply.started": "2024-07-29T23:59:53.342812Z",
          "shell.execute_reply": "2024-07-29T23:59:53.983783Z"
        },
        "trusted": true,
        "colab": {
          "referenced_widgets": [
            "fac40be6a7114928905c3b12eead1639"
          ]
        },
        "id": "b2M5x7ia5gJe",
        "outputId": "9b22fe7b-fee2-4540-b7c5-6c9658ea22b7"
      },
      "execution_count": null,
      "outputs": [
        {
          "output_type": "display_data",
          "data": {
            "text/plain": "  0%|          | 0/68534 [00:00<?, ?it/s]",
            "application/vnd.jupyter.widget-view+json": {
              "version_major": 2,
              "version_minor": 0,
              "model_id": "fac40be6a7114928905c3b12eead1639"
            }
          },
          "metadata": {}
        }
      ]
    },
    {
      "cell_type": "markdown",
      "source": [
        "## Create Data-Test set"
      ],
      "metadata": {
        "id": "0ANbY63g5gJf"
      }
    },
    {
      "cell_type": "code",
      "source": [
        "test_cases = [\n",
        "    {\"text\": \"I love you\", \"label\": \"POSITIVE\"},\n",
        "    {\"text\": \"I hate you\", \"label\": \"NEGATIVE\"},\n",
        "    {\"text\": \"I hate the selfishness in you\", \"label\": \"NEGATIVE\"},\n",
        "    {\"text\": \"I hate anyone hurt you\", \"label\": \"POSITIVE\"},\n",
        "    {\"text\": \"I hate anyone hurt you\", \"label\": \"POSITIVE\"},\n",
        "    {\"text\": \"I hate anyone hurt you, you are my partner\", \"label\": \"POSITIVE\"},\n",
        "    {\"text\": \"I hate anyone hurt you, you are my love\", \"label\": \"POSITIVE\"},\n",
        "    {\"text\": \"I like rude people\", \"label\": \"NEGATIVE\"},\n",
        "    {\"text\": \"I don't like rude people\", \"label\": \"POSITIVE\"},\n",
        "    {\"text\": \"I hate polite people\", \"label\": \"NEGATIVE\"},\n",
        "    {\"text\": \"I don't hate polite people\", \"label\": \"POSITIVE\"},\n",
        "    {\"text\": \"I love when you are honest\", \"label\": \"POSITIVE\"},\n",
        "    {\"text\": \"I hate when you are honest\", \"label\": \"NEGATIVE\"},\n",
        "    {\"text\": \"I don't hate when you are honest\", \"label\": \"POSITIVE\"},\n",
        "    {\"text\": \"I like how you always tell the truth\", \"label\": \"POSITIVE\"},\n",
        "    {\"text\": \"I hate how you always tell the truth\", \"label\": \"NEGATIVE\"},\n",
        "    {\"text\": \"I don't like how you always lie\", \"label\": \"NEGATIVE\"},\n",
        "    {\"text\": \"I like how you never lie\", \"label\": \"POSITIVE\"},\n",
        "    {\"text\": \"I hate people who are kind\", \"label\": \"NEGATIVE\"},\n",
        "    {\"text\": \"I don't hate people who are kind\", \"label\": \"POSITIVE\"},\n",
        "]"
      ],
      "metadata": {
        "execution": {
          "iopub.status.busy": "2024-07-29T23:59:53.985855Z",
          "iopub.execute_input": "2024-07-29T23:59:53.986147Z",
          "iopub.status.idle": "2024-07-29T23:59:53.993988Z",
          "shell.execute_reply.started": "2024-07-29T23:59:53.986123Z",
          "shell.execute_reply": "2024-07-29T23:59:53.993105Z"
        },
        "trusted": true,
        "id": "PC9Qr0z35gJf"
      },
      "execution_count": null,
      "outputs": []
    },
    {
      "cell_type": "markdown",
      "source": [
        "## Class for Dataset"
      ],
      "metadata": {
        "id": "VkA5F79a5gJg"
      }
    },
    {
      "cell_type": "code",
      "source": [
        "class SentimentDataset(Dataset):\n",
        "    def __init__(self, texts, labels=None):\n",
        "        self.texts = texts\n",
        "        self.labels = labels\n",
        "\n",
        "    def __len__(self):\n",
        "        return len(self.texts)\n",
        "\n",
        "    def __getitem__(self, idx):\n",
        "        text = self.texts[idx]\n",
        "        if self.labels!=None:\n",
        "            label = self.labels[idx]\n",
        "            return torch.tensor(text).to(\"cuda\"), torch.tensor(label, dtype=torch.long).to('cuda')\n",
        "        return torch.tensor(text).to(\"cuda\")"
      ],
      "metadata": {
        "execution": {
          "iopub.status.busy": "2024-07-29T23:59:53.995080Z",
          "iopub.execute_input": "2024-07-29T23:59:53.995377Z",
          "iopub.status.idle": "2024-07-29T23:59:54.006858Z",
          "shell.execute_reply.started": "2024-07-29T23:59:53.995353Z",
          "shell.execute_reply": "2024-07-29T23:59:54.006132Z"
        },
        "trusted": true,
        "id": "8ms5i7HE5gJg"
      },
      "execution_count": null,
      "outputs": []
    },
    {
      "cell_type": "markdown",
      "source": [
        "## Assign the data to train and validtion"
      ],
      "metadata": {
        "id": "gzsf6bn25gJg"
      }
    },
    {
      "cell_type": "code",
      "source": [
        "X_train,X_vald,Y_train,Y_vald=df[\"text\"].to_list(),df6_Vals[\"text\"].to_list(),df[\"label\"].to_list(),df6_Vals[\"label\"].to_list()"
      ],
      "metadata": {
        "execution": {
          "iopub.status.busy": "2024-07-29T23:59:54.007798Z",
          "iopub.execute_input": "2024-07-29T23:59:54.008094Z",
          "iopub.status.idle": "2024-07-29T23:59:54.018765Z",
          "shell.execute_reply.started": "2024-07-29T23:59:54.008071Z",
          "shell.execute_reply": "2024-07-29T23:59:54.017880Z"
        },
        "trusted": true,
        "id": "qNHCuOxh5gJu"
      },
      "execution_count": null,
      "outputs": []
    },
    {
      "cell_type": "markdown",
      "source": [
        "## Tokenized the sentences assign 'unk' and 'pad' tokens also convert tokens to numbers using vocublary"
      ],
      "metadata": {
        "id": "F53KNkgI5gJu"
      }
    },
    {
      "cell_type": "code",
      "source": [
        "tokenizedTokensTrain=[[word_to_index[token] if token in word_to_index.keys() else word_to_index['<unk>']  for token in tokenizer(rev)]for rev in X_train]\n",
        "tokenizedTokensVal=[[word_to_index[token] if token in word_to_index.keys() else word_to_index['<unk>']  for token in tokenizer(rev)]for rev in X_vald]\n",
        "tokenizedTokensTrain=[rev+[word_to_index['<pad>']]*(maxLength-len(rev)) if len(rev)<maxLength else rev[:maxLength] for rev in tokenizedTokensTrain]\n",
        "tokenizedTokensVal=[rev+[word_to_index['<pad>']]*(maxLength-len(rev)) if len(rev)<maxLength else rev[:maxLength] for rev in tokenizedTokensVal]"
      ],
      "metadata": {
        "execution": {
          "iopub.status.busy": "2024-07-29T23:59:54.019711Z",
          "iopub.execute_input": "2024-07-29T23:59:54.019986Z",
          "iopub.status.idle": "2024-07-29T23:59:54.956478Z",
          "shell.execute_reply.started": "2024-07-29T23:59:54.019955Z",
          "shell.execute_reply": "2024-07-29T23:59:54.955476Z"
        },
        "trusted": true,
        "id": "AYvjr9Mf5gJv"
      },
      "execution_count": null,
      "outputs": []
    },
    {
      "cell_type": "markdown",
      "source": [
        "## Create Train,Validation for training BILSTM"
      ],
      "metadata": {
        "id": "7NAUfiTr5gJv"
      }
    },
    {
      "cell_type": "code",
      "source": [
        "X_train_lstm,Y_train_lstm=tokenizedTokensTrain,Y_train\n",
        "X_vald_lstm,Y_vald_lstm=tokenizedTokensVal,Y_vald"
      ],
      "metadata": {
        "execution": {
          "iopub.status.busy": "2024-07-29T23:59:54.957607Z",
          "iopub.execute_input": "2024-07-29T23:59:54.957889Z",
          "iopub.status.idle": "2024-07-29T23:59:54.962348Z",
          "shell.execute_reply.started": "2024-07-29T23:59:54.957864Z",
          "shell.execute_reply": "2024-07-29T23:59:54.961351Z"
        },
        "trusted": true,
        "id": "wt658h2W5gJw"
      },
      "execution_count": null,
      "outputs": []
    },
    {
      "cell_type": "markdown",
      "source": [
        "## Create Test examples for BILSTM"
      ],
      "metadata": {
        "id": "2K79EvcL5gJw"
      }
    },
    {
      "cell_type": "code",
      "source": [
        "label2idx={\"POSITIVE\":1.0,\"NEGATIVE\":0.0}\n",
        "testDataExamples=[t[\"text\"] for t in test_cases]\n",
        "tokenizedTokensTest=[[word_to_index[token] if token in word_to_index.keys() else word_to_index['<unk>']  for token in tokenizer(rev)]for rev in testDataExamples]\n",
        "tokenizedTokensTest=[rev+[word_to_index['<pad>']]*(maxLength-len(rev)) if len(rev)<maxLength else rev[:maxLength] for rev in tokenizedTokensTest]\n",
        "X_test_lstm=tokenizedTokensTest\n",
        "Y_test_lstm=[label2idx[t[\"label\"]] for t in test_cases]"
      ],
      "metadata": {
        "execution": {
          "iopub.status.busy": "2024-07-29T23:59:54.963400Z",
          "iopub.execute_input": "2024-07-29T23:59:54.963647Z",
          "iopub.status.idle": "2024-07-29T23:59:54.972697Z",
          "shell.execute_reply.started": "2024-07-29T23:59:54.963626Z",
          "shell.execute_reply": "2024-07-29T23:59:54.971988Z"
        },
        "trusted": true,
        "id": "B_LWR2Fu5gJx"
      },
      "execution_count": null,
      "outputs": []
    },
    {
      "cell_type": "markdown",
      "source": [
        "## Create Train,validtion and test data loader for training BILSTM"
      ],
      "metadata": {
        "id": "NBWYNF175gJx"
      }
    },
    {
      "cell_type": "code",
      "source": [
        "batch_size=16\n",
        "train_dataset=SentimentDataset(X_train_lstm,Y_train_lstm)\n",
        "val_dataset=SentimentDataset(X_vald_lstm,Y_vald_lstm)\n",
        "test_dataset=SentimentDataset(X_test_lstm,Y_test_lstm)\n",
        "# Create DataLoaders for each set\n",
        "train_loader = DataLoader(train_dataset, batch_size=batch_size, shuffle=True)\n",
        "val_loader = DataLoader(val_dataset, batch_size=batch_size, shuffle=False)\n",
        "test_loader = DataLoader(test_dataset, batch_size=batch_size, shuffle=False)"
      ],
      "metadata": {
        "execution": {
          "iopub.status.busy": "2024-07-29T23:59:54.979259Z",
          "iopub.execute_input": "2024-07-29T23:59:54.979521Z",
          "iopub.status.idle": "2024-07-29T23:59:54.985422Z",
          "shell.execute_reply.started": "2024-07-29T23:59:54.979499Z",
          "shell.execute_reply": "2024-07-29T23:59:54.984547Z"
        },
        "trusted": true,
        "id": "TbBnAb1b5gJy"
      },
      "execution_count": null,
      "outputs": []
    },
    {
      "cell_type": "markdown",
      "source": [
        "## Now we create BILSTM model"
      ],
      "metadata": {
        "id": "Trxw_WaI5gJy"
      }
    },
    {
      "cell_type": "code",
      "source": [
        "class LSTMSentiment(nn.Module):\n",
        "    def __init__(self, vocab_size, embedding_dim, hidden_dim, output_dim, n_layers, bidirectional, dropout):\n",
        "        super(LSTMSentiment, self).__init__()\n",
        "\n",
        "        self.embedding = nn.Embedding(vocab_size, embedding_dim)\n",
        "        self.lstm = nn.LSTM(embedding_dim, hidden_dim, num_layers=n_layers,\n",
        "                            bidirectional=bidirectional, dropout=dropout, batch_first=True)\n",
        "        self.fc = nn.Linear(hidden_dim * 2 if bidirectional else hidden_dim, output_dim)\n",
        "        self.dropout = nn.Dropout(dropout)\n",
        "        self.softmax=nn.Softmax(dim=1)\n",
        "    def forward(self, text):\n",
        "        # text should be indices of tokens\n",
        "        embedded = self.embedding(text)\n",
        "        # No need to add an extra dimension\n",
        "        lstm_out, (hidden, cell) = self.lstm(embedded)\n",
        "\n",
        "        if self.lstm.bidirectional:\n",
        "            hidden = torch.cat((hidden[-2, :, :], hidden[-1, :, :]), dim=1)\n",
        "        else:\n",
        "            hidden = hidden[-1, :, :]\n",
        "\n",
        "        hidden = self.dropout(hidden)\n",
        "        return self.fc(hidden)\n"
      ],
      "metadata": {
        "execution": {
          "iopub.status.busy": "2024-07-29T23:59:54.986821Z",
          "iopub.execute_input": "2024-07-29T23:59:54.987161Z",
          "iopub.status.idle": "2024-07-29T23:59:54.995913Z",
          "shell.execute_reply.started": "2024-07-29T23:59:54.987131Z",
          "shell.execute_reply": "2024-07-29T23:59:54.995017Z"
        },
        "trusted": true,
        "id": "LjP2Kokz5gJz"
      },
      "execution_count": null,
      "outputs": []
    },
    {
      "cell_type": "markdown",
      "source": [
        "## Hyperparameters"
      ],
      "metadata": {
        "id": "deyTPW4w5gJ0"
      }
    },
    {
      "cell_type": "code",
      "source": [
        "VOCAB_SIZE = len(vocab)  # Size of the vocabulary\n",
        "EMBEDDING_DIM = 100  # Embedding dimension\n",
        "HIDDEN_DIM = 8  # Hidden dimension\n",
        "OUTPUT_DIM = 2  # Output dimension (binary classification)\n",
        "N_LAYERS = 1  # Number of LSTM layers\n",
        "BIDIRECTIONAL = True  # Use bidirectional LSTM\n",
        "DROPOUT = 0.7  # Dropout rate"
      ],
      "metadata": {
        "execution": {
          "iopub.status.busy": "2024-07-29T23:59:54.996863Z",
          "iopub.execute_input": "2024-07-29T23:59:54.997148Z",
          "iopub.status.idle": "2024-07-29T23:59:55.008424Z",
          "shell.execute_reply.started": "2024-07-29T23:59:54.997126Z",
          "shell.execute_reply": "2024-07-29T23:59:55.007575Z"
        },
        "trusted": true,
        "id": "5veXUHr-5gJ0"
      },
      "execution_count": null,
      "outputs": []
    },
    {
      "cell_type": "markdown",
      "source": [
        "## Instantiate the model"
      ],
      "metadata": {
        "id": "bg5qYa1l5gJ1"
      }
    },
    {
      "cell_type": "code",
      "source": [
        "BILstmmodel = LSTMSentiment(VOCAB_SIZE, EMBEDDING_DIM, HIDDEN_DIM, OUTPUT_DIM, N_LAYERS, BIDIRECTIONAL, DROPOUT).to(\"cuda\")"
      ],
      "metadata": {
        "execution": {
          "iopub.status.busy": "2024-07-29T23:59:55.009485Z",
          "iopub.execute_input": "2024-07-29T23:59:55.009773Z",
          "iopub.status.idle": "2024-07-29T23:59:55.360496Z",
          "shell.execute_reply.started": "2024-07-29T23:59:55.009745Z",
          "shell.execute_reply": "2024-07-29T23:59:55.359531Z"
        },
        "trusted": true,
        "id": "vD7s7qSO5gJ1",
        "outputId": "1f33fb3e-c650-4798-c6d5-13d9539571db"
      },
      "execution_count": null,
      "outputs": [
        {
          "name": "stderr",
          "text": "/opt/conda/lib/python3.10/site-packages/torch/nn/modules/rnn.py:82: UserWarning: dropout option adds dropout after all but last recurrent layer, so non-zero dropout expects num_layers greater than 1, but got dropout=0.7 and num_layers=1\n  warnings.warn(\"dropout option adds dropout after all but last \"\n",
          "output_type": "stream"
        }
      ]
    },
    {
      "cell_type": "markdown",
      "source": [
        "## lets check the model"
      ],
      "metadata": {
        "id": "YM0Xsh5t5gJ2"
      }
    },
    {
      "cell_type": "code",
      "source": [
        "BILstmmodel"
      ],
      "metadata": {
        "execution": {
          "iopub.status.busy": "2024-07-29T23:59:55.361594Z",
          "iopub.execute_input": "2024-07-29T23:59:55.361897Z",
          "iopub.status.idle": "2024-07-29T23:59:55.367852Z",
          "shell.execute_reply.started": "2024-07-29T23:59:55.361872Z",
          "shell.execute_reply": "2024-07-29T23:59:55.366987Z"
        },
        "trusted": true,
        "id": "XE424kUK5gJ3",
        "outputId": "10bbb502-b4c2-4034-9016-9e5b72e15a4b"
      },
      "execution_count": null,
      "outputs": [
        {
          "execution_count": 32,
          "output_type": "execute_result",
          "data": {
            "text/plain": "LSTMSentiment(\n  (embedding): Embedding(14672, 100)\n  (lstm): LSTM(100, 8, batch_first=True, dropout=0.7, bidirectional=True)\n  (fc): Linear(in_features=16, out_features=2, bias=True)\n  (dropout): Dropout(p=0.7, inplace=False)\n  (softmax): Softmax(dim=1)\n)"
          },
          "metadata": {}
        }
      ]
    },
    {
      "cell_type": "markdown",
      "source": [
        "## Loss and optimizer"
      ],
      "metadata": {
        "id": "IRGyfe6W5gJ3"
      }
    },
    {
      "cell_type": "code",
      "source": [
        "criterion = nn.CrossEntropyLoss()\n",
        "optimizer = optim.Adam(BILstmmodel.parameters(), lr=0.001)"
      ],
      "metadata": {
        "execution": {
          "iopub.status.busy": "2024-07-29T23:59:55.369072Z",
          "iopub.execute_input": "2024-07-29T23:59:55.369336Z",
          "iopub.status.idle": "2024-07-29T23:59:55.974138Z",
          "shell.execute_reply.started": "2024-07-29T23:59:55.369314Z",
          "shell.execute_reply": "2024-07-29T23:59:55.973192Z"
        },
        "trusted": true,
        "id": "r4oEU1p25gJ4"
      },
      "execution_count": null,
      "outputs": []
    },
    {
      "cell_type": "markdown",
      "source": [
        "## To move the model to GPU if available"
      ],
      "metadata": {
        "id": "KE8sN2oA5gJ4"
      }
    },
    {
      "cell_type": "code",
      "source": [
        "device = torch.device('cuda' if torch.cuda.is_available() else 'cpu')\n",
        "BILstmmodel = BILstmmodel.to(device)\n",
        "criterion = criterion.to(device)"
      ],
      "metadata": {
        "execution": {
          "iopub.status.busy": "2024-07-29T23:59:55.975303Z",
          "iopub.execute_input": "2024-07-29T23:59:55.975728Z",
          "iopub.status.idle": "2024-07-29T23:59:55.981993Z",
          "shell.execute_reply.started": "2024-07-29T23:59:55.975703Z",
          "shell.execute_reply": "2024-07-29T23:59:55.981119Z"
        },
        "trusted": true,
        "id": "Dx9bWj7a5gJ5"
      },
      "execution_count": null,
      "outputs": []
    },
    {
      "cell_type": "markdown",
      "source": [
        "## Training Functions"
      ],
      "metadata": {
        "id": "EzfXThks5gJ5"
      }
    },
    {
      "cell_type": "markdown",
      "source": [
        "### F1-SCORES"
      ],
      "metadata": {
        "id": "TzFyAcTW5gJ6"
      }
    },
    {
      "cell_type": "code",
      "source": [
        "def calculate_f1(y_true, y_pred):\n",
        "    y_pred = y_pred.cpu().detach().numpy()\n",
        "    y_true = y_true.cpu().detach().numpy()\n",
        "    return f1_score(y_true, y_pred, average='weighted')"
      ],
      "metadata": {
        "execution": {
          "iopub.status.busy": "2024-07-29T23:59:55.983016Z",
          "iopub.execute_input": "2024-07-29T23:59:55.983282Z",
          "iopub.status.idle": "2024-07-29T23:59:55.990406Z",
          "shell.execute_reply.started": "2024-07-29T23:59:55.983260Z",
          "shell.execute_reply": "2024-07-29T23:59:55.989484Z"
        },
        "trusted": true,
        "id": "vN3xm46s5gJ6"
      },
      "execution_count": null,
      "outputs": []
    },
    {
      "cell_type": "markdown",
      "source": [
        "### Plot CM"
      ],
      "metadata": {
        "id": "UDCFbWBP5gJ7"
      }
    },
    {
      "cell_type": "code",
      "source": [
        "def plot_confusion_matrix(cm, class_names):\n",
        "    plt.figure(figsize=(10, 7))\n",
        "    sns.heatmap(cm, annot=True, fmt='d', cmap='Blues', xticklabels=class_names, yticklabels=class_names)\n",
        "    plt.xlabel('Predicted Labels')\n",
        "    plt.ylabel('True Labels')\n",
        "    plt.title('Confusion Matrix')\n",
        "    plt.show()"
      ],
      "metadata": {
        "execution": {
          "iopub.status.busy": "2024-07-29T23:59:55.991554Z",
          "iopub.execute_input": "2024-07-29T23:59:55.991816Z",
          "iopub.status.idle": "2024-07-29T23:59:56.000348Z",
          "shell.execute_reply.started": "2024-07-29T23:59:55.991794Z",
          "shell.execute_reply": "2024-07-29T23:59:55.999590Z"
        },
        "trusted": true,
        "id": "GZvkai635gJ8"
      },
      "execution_count": null,
      "outputs": []
    },
    {
      "cell_type": "markdown",
      "source": [
        "## Train-BILSTM"
      ],
      "metadata": {
        "id": "wO9U4g3d5gJ9"
      }
    },
    {
      "cell_type": "markdown",
      "source": [
        "### Training function for BILSTM model"
      ],
      "metadata": {
        "id": "WlKAGSEK5gJ-"
      }
    },
    {
      "cell_type": "code",
      "source": [
        "def train_model(model, iterator, optimizer, criterion, scaler, accumulation_steps=2):\n",
        "    model.train()\n",
        "    epoch_loss = 0\n",
        "    all_preds = []\n",
        "    all_labels = []\n",
        "\n",
        "    optimizer.zero_grad()\n",
        "\n",
        "    for i, batch in enumerate(tqdm(iterator)):\n",
        "        text, labels = batch[0], batch[1]\n",
        "        with autocast():\n",
        "            predictions = model(text)\n",
        "            loss = criterion(predictions, labels)\n",
        "            loss = loss / accumulation_steps\n",
        "\n",
        "        scaler.scale(loss).backward()\n",
        "\n",
        "        if (i + 1) % accumulation_steps == 0:\n",
        "            scaler.step(optimizer)\n",
        "            scaler.update()\n",
        "            optimizer.zero_grad()\n",
        "\n",
        "        epoch_loss += loss.item() * accumulation_steps\n",
        "        all_preds.append(predictions.argmax(dim=1).to(dtype=torch.float32))\n",
        "        all_labels.append(labels)\n",
        "\n",
        "    # Handle the remaining gradients\n",
        "    if (i + 1) % accumulation_steps != 0:\n",
        "        scaler.step(optimizer)\n",
        "        scaler.update()\n",
        "        optimizer.zero_grad()\n",
        "\n",
        "    all_preds = torch.cat(all_preds)\n",
        "    all_labels = torch.cat(all_labels)\n",
        "    f1 = calculate_f1(all_labels, all_preds)\n",
        "    cm = confusion_matrix(all_labels.cpu().numpy(), all_preds.cpu().numpy())\n",
        "\n",
        "    return epoch_loss / len(iterator), f1, cm\n"
      ],
      "metadata": {
        "execution": {
          "iopub.status.busy": "2024-07-29T23:59:56.001497Z",
          "iopub.execute_input": "2024-07-29T23:59:56.001844Z",
          "iopub.status.idle": "2024-07-29T23:59:56.012689Z",
          "shell.execute_reply.started": "2024-07-29T23:59:56.001814Z",
          "shell.execute_reply": "2024-07-29T23:59:56.011867Z"
        },
        "trusted": true,
        "id": "y7blJURb5gJ-"
      },
      "execution_count": null,
      "outputs": []
    },
    {
      "cell_type": "markdown",
      "source": [
        "### Evaluate Function for BILSTM model"
      ],
      "metadata": {
        "id": "gP3T-0Tk5gJ_"
      }
    },
    {
      "cell_type": "code",
      "source": [
        "def evaluate_model(model, iterator, criterion):\n",
        "    model.eval()\n",
        "    epoch_loss = 0\n",
        "    all_preds = []\n",
        "    all_labels = []\n",
        "\n",
        "    with torch.no_grad():\n",
        "        for batch in tqdm(iterator):\n",
        "            text, labels = batch[0], batch[1]\n",
        "            text, labels = text.to(device), labels.to(device)\n",
        "\n",
        "            predictions = model(text)\n",
        "            loss = criterion(predictions, labels)\n",
        "\n",
        "            epoch_loss += loss.item()\n",
        "            all_preds.append(predictions.argmax(dim=1).to(dtype=torch.float32))\n",
        "            all_labels.append(labels)\n",
        "\n",
        "    all_preds = torch.cat(all_preds)\n",
        "    all_labels = torch.cat(all_labels)\n",
        "    f1 = calculate_f1(all_labels, all_preds)\n",
        "\n",
        "    return epoch_loss / len(iterator), f1"
      ],
      "metadata": {
        "execution": {
          "iopub.status.busy": "2024-07-29T23:59:56.013549Z",
          "iopub.execute_input": "2024-07-29T23:59:56.013815Z",
          "iopub.status.idle": "2024-07-29T23:59:56.022226Z",
          "shell.execute_reply.started": "2024-07-29T23:59:56.013793Z",
          "shell.execute_reply": "2024-07-29T23:59:56.021442Z"
        },
        "trusted": true,
        "id": "OD9-JRvH5gKA"
      },
      "execution_count": null,
      "outputs": []
    },
    {
      "cell_type": "markdown",
      "source": [
        "### Define Number of steps for gradient accumulation and Gradient scaler for mixed precision training"
      ],
      "metadata": {
        "id": "InJA6XLs5gKA"
      }
    },
    {
      "cell_type": "code",
      "source": [
        "N_EPOCHS=8\n",
        "ACCUMULATION_STEPS = 2\n",
        "scaler = GradScaler()"
      ],
      "metadata": {
        "id": "1XdTiRS05gKB"
      },
      "execution_count": null,
      "outputs": []
    },
    {
      "cell_type": "markdown",
      "source": [
        "### Run trainig and validation then plot confusion matrix"
      ],
      "metadata": {
        "id": "ChU5O-2W5gKB"
      }
    },
    {
      "cell_type": "code",
      "source": [
        "for epoch in tqdm(range(N_EPOCHS)):\n",
        "    train_loss, train_f1,cm = train_model(BILstmmodel, train_loader, optimizer, criterion, scaler, accumulation_steps=ACCUMULATION_STEPS)\n",
        "    valid_loss, valid_f1 = evaluate_model(BILstmmodel, val_loader, criterion)\n",
        "    print(f'Epoch:================================{epoch+1}====================================\\nTrain Loss: {train_loss:.3f}, Train F1: {train_f1:.3f}, Val. Loss: {valid_loss:.3f}, Val. F1: {valid_f1:.3f}')\n",
        "class_names = ['Negative', 'Positive']  # Adjust based on your labels\n",
        "plot_confusion_matrix(cm, class_names)"
      ],
      "metadata": {
        "execution": {
          "iopub.status.busy": "2024-07-29T23:59:56.023264Z",
          "iopub.execute_input": "2024-07-29T23:59:56.023594Z",
          "iopub.status.idle": "2024-07-30T00:02:18.937232Z",
          "shell.execute_reply.started": "2024-07-29T23:59:56.023562Z",
          "shell.execute_reply": "2024-07-30T00:02:18.936310Z"
        },
        "trusted": true,
        "colab": {
          "referenced_widgets": [
            "71b13b9faeac4d79b3ab889eabbf3561",
            "ede472a25ee542d58062c58d1ca4ae58",
            "11df7598d21446c9b30b09a8d66adf54",
            "ed79a18fdedc4d948c43480ce9f1561c",
            "4e71eca609d84c43b331996a2d925fa8",
            "d73f3c078f994015a94435f8d9853faf",
            "020e75424cca47eb9879151c7d17f779",
            "6a39bee438b8433c805c0975b1013600",
            "453e2e7af23a495ab57cd819bfa8be6f",
            "e08e16737a1344fea91b2272a513185f",
            "90129555ee584683bd4c82fda5228d22",
            "59025ac17b5e4f5097050fd66e3c7f75",
            "ae113ea60dda4832b1e2c26714b5e67d",
            "5b7dae6a86e14fe1909432617dfa96b9",
            "f251e594dd514207a7541dc6e8c50122",
            "eb9787b16414452fb45b697ed7202c70",
            "016a8a9c083944a08b249662b0adece6"
          ]
        },
        "id": "n3UAAIxf5gKB",
        "outputId": "012fafc9-ca4f-4bb7-e2ed-d333b6c7f6b0"
      },
      "execution_count": null,
      "outputs": [
        {
          "output_type": "display_data",
          "data": {
            "text/plain": "  0%|          | 0/8 [00:00<?, ?it/s]",
            "application/vnd.jupyter.widget-view+json": {
              "version_major": 2,
              "version_minor": 0,
              "model_id": "71b13b9faeac4d79b3ab889eabbf3561"
            }
          },
          "metadata": {}
        },
        {
          "output_type": "display_data",
          "data": {
            "text/plain": "  0%|          | 0/4284 [00:00<?, ?it/s]",
            "application/vnd.jupyter.widget-view+json": {
              "version_major": 2,
              "version_minor": 0,
              "model_id": "ede472a25ee542d58062c58d1ca4ae58"
            }
          },
          "metadata": {}
        },
        {
          "output_type": "display_data",
          "data": {
            "text/plain": "  0%|          | 0/55 [00:00<?, ?it/s]",
            "application/vnd.jupyter.widget-view+json": {
              "version_major": 2,
              "version_minor": 0,
              "model_id": "11df7598d21446c9b30b09a8d66adf54"
            }
          },
          "metadata": {}
        },
        {
          "name": "stdout",
          "text": "Epoch:================================1====================================\nTrain Loss: 0.646, Train F1: 0.579, Val. Loss: 0.562, Val. F1: 0.714\n",
          "output_type": "stream"
        },
        {
          "output_type": "display_data",
          "data": {
            "text/plain": "  0%|          | 0/4284 [00:00<?, ?it/s]",
            "application/vnd.jupyter.widget-view+json": {
              "version_major": 2,
              "version_minor": 0,
              "model_id": "ed79a18fdedc4d948c43480ce9f1561c"
            }
          },
          "metadata": {}
        },
        {
          "output_type": "display_data",
          "data": {
            "text/plain": "  0%|          | 0/55 [00:00<?, ?it/s]",
            "application/vnd.jupyter.widget-view+json": {
              "version_major": 2,
              "version_minor": 0,
              "model_id": "4e71eca609d84c43b331996a2d925fa8"
            }
          },
          "metadata": {}
        },
        {
          "name": "stdout",
          "text": "Epoch:================================2====================================\nTrain Loss: 0.489, Train F1: 0.762, Val. Loss: 0.485, Val. F1: 0.781\n",
          "output_type": "stream"
        },
        {
          "output_type": "display_data",
          "data": {
            "text/plain": "  0%|          | 0/4284 [00:00<?, ?it/s]",
            "application/vnd.jupyter.widget-view+json": {
              "version_major": 2,
              "version_minor": 0,
              "model_id": "d73f3c078f994015a94435f8d9853faf"
            }
          },
          "metadata": {}
        },
        {
          "output_type": "display_data",
          "data": {
            "text/plain": "  0%|          | 0/55 [00:00<?, ?it/s]",
            "application/vnd.jupyter.widget-view+json": {
              "version_major": 2,
              "version_minor": 0,
              "model_id": "020e75424cca47eb9879151c7d17f779"
            }
          },
          "metadata": {}
        },
        {
          "name": "stdout",
          "text": "Epoch:================================3====================================\nTrain Loss: 0.406, Train F1: 0.818, Val. Loss: 0.492, Val. F1: 0.787\n",
          "output_type": "stream"
        },
        {
          "output_type": "display_data",
          "data": {
            "text/plain": "  0%|          | 0/4284 [00:00<?, ?it/s]",
            "application/vnd.jupyter.widget-view+json": {
              "version_major": 2,
              "version_minor": 0,
              "model_id": "6a39bee438b8433c805c0975b1013600"
            }
          },
          "metadata": {}
        },
        {
          "output_type": "display_data",
          "data": {
            "text/plain": "  0%|          | 0/55 [00:00<?, ?it/s]",
            "application/vnd.jupyter.widget-view+json": {
              "version_major": 2,
              "version_minor": 0,
              "model_id": "453e2e7af23a495ab57cd819bfa8be6f"
            }
          },
          "metadata": {}
        },
        {
          "name": "stdout",
          "text": "Epoch:================================4====================================\nTrain Loss: 0.358, Train F1: 0.845, Val. Loss: 0.530, Val. F1: 0.789\n",
          "output_type": "stream"
        },
        {
          "output_type": "display_data",
          "data": {
            "text/plain": "  0%|          | 0/4284 [00:00<?, ?it/s]",
            "application/vnd.jupyter.widget-view+json": {
              "version_major": 2,
              "version_minor": 0,
              "model_id": "e08e16737a1344fea91b2272a513185f"
            }
          },
          "metadata": {}
        },
        {
          "output_type": "display_data",
          "data": {
            "text/plain": "  0%|          | 0/55 [00:00<?, ?it/s]",
            "application/vnd.jupyter.widget-view+json": {
              "version_major": 2,
              "version_minor": 0,
              "model_id": "90129555ee584683bd4c82fda5228d22"
            }
          },
          "metadata": {}
        },
        {
          "name": "stdout",
          "text": "Epoch:================================5====================================\nTrain Loss: 0.328, Train F1: 0.859, Val. Loss: 0.565, Val. F1: 0.792\n",
          "output_type": "stream"
        },
        {
          "output_type": "display_data",
          "data": {
            "text/plain": "  0%|          | 0/4284 [00:00<?, ?it/s]",
            "application/vnd.jupyter.widget-view+json": {
              "version_major": 2,
              "version_minor": 0,
              "model_id": "59025ac17b5e4f5097050fd66e3c7f75"
            }
          },
          "metadata": {}
        },
        {
          "output_type": "display_data",
          "data": {
            "text/plain": "  0%|          | 0/55 [00:00<?, ?it/s]",
            "application/vnd.jupyter.widget-view+json": {
              "version_major": 2,
              "version_minor": 0,
              "model_id": "ae113ea60dda4832b1e2c26714b5e67d"
            }
          },
          "metadata": {}
        },
        {
          "name": "stdout",
          "text": "Epoch:================================6====================================\nTrain Loss: 0.305, Train F1: 0.872, Val. Loss: 0.625, Val. F1: 0.778\n",
          "output_type": "stream"
        },
        {
          "output_type": "display_data",
          "data": {
            "text/plain": "  0%|          | 0/4284 [00:00<?, ?it/s]",
            "application/vnd.jupyter.widget-view+json": {
              "version_major": 2,
              "version_minor": 0,
              "model_id": "5b7dae6a86e14fe1909432617dfa96b9"
            }
          },
          "metadata": {}
        },
        {
          "output_type": "display_data",
          "data": {
            "text/plain": "  0%|          | 0/55 [00:00<?, ?it/s]",
            "application/vnd.jupyter.widget-view+json": {
              "version_major": 2,
              "version_minor": 0,
              "model_id": "f251e594dd514207a7541dc6e8c50122"
            }
          },
          "metadata": {}
        },
        {
          "name": "stdout",
          "text": "Epoch:================================7====================================\nTrain Loss: 0.281, Train F1: 0.884, Val. Loss: 0.626, Val. F1: 0.777\n",
          "output_type": "stream"
        },
        {
          "output_type": "display_data",
          "data": {
            "text/plain": "  0%|          | 0/4284 [00:00<?, ?it/s]",
            "application/vnd.jupyter.widget-view+json": {
              "version_major": 2,
              "version_minor": 0,
              "model_id": "eb9787b16414452fb45b697ed7202c70"
            }
          },
          "metadata": {}
        },
        {
          "output_type": "display_data",
          "data": {
            "text/plain": "  0%|          | 0/55 [00:00<?, ?it/s]",
            "application/vnd.jupyter.widget-view+json": {
              "version_major": 2,
              "version_minor": 0,
              "model_id": "016a8a9c083944a08b249662b0adece6"
            }
          },
          "metadata": {}
        },
        {
          "name": "stdout",
          "text": "Epoch:================================8====================================\nTrain Loss: 0.258, Train F1: 0.898, Val. Loss: 0.673, Val. F1: 0.780\n",
          "output_type": "stream"
        },
        {
          "output_type": "display_data",
          "data": {
            "text/plain": "<Figure size 1000x700 with 2 Axes>",
            "image/png": "[encoded data removed]"
          },
          "metadata": {}
        }
      ]
    },
    {
      "cell_type": "markdown",
      "source": [
        "## Testing-BILSTM"
      ],
      "metadata": {
        "id": "skCU4VZO5gKC"
      }
    },
    {
      "cell_type": "markdown",
      "source": [
        "### Define test function for run testing"
      ],
      "metadata": {
        "id": "AsmF7U155gKC"
      }
    },
    {
      "cell_type": "code",
      "source": [
        "def test_model(model, iterator, criterion):\n",
        "    model.eval()\n",
        "    epoch_loss = 0\n",
        "    all_preds = []\n",
        "    all_labels = []\n",
        "\n",
        "    with torch.no_grad():\n",
        "        for batch in tqdm(iterator):\n",
        "            text, labels = batch[0], batch[1]\n",
        "            text, labels = text.to(device), labels.to(device)\n",
        "\n",
        "            predictions = model(text)\n",
        "            loss = criterion(predictions, labels)\n",
        "\n",
        "            epoch_loss += loss.item()\n",
        "            all_preds.append(predictions.argmax(dim=1).to(dtype=torch.float32))\n",
        "            all_labels.append(labels)\n",
        "\n",
        "    all_preds = torch.cat(all_preds)\n",
        "    all_labels = torch.cat(all_labels)\n",
        "    f1 = calculate_f1(all_labels, all_preds)\n",
        "    cm = confusion_matrix(all_labels.cpu().numpy(), all_preds.cpu().numpy())\n",
        "    return epoch_loss / len(iterator), f1,cm,all_preds"
      ],
      "metadata": {
        "execution": {
          "iopub.status.busy": "2024-07-30T00:02:18.938586Z",
          "iopub.execute_input": "2024-07-30T00:02:18.939221Z",
          "iopub.status.idle": "2024-07-30T00:02:18.947365Z",
          "shell.execute_reply.started": "2024-07-30T00:02:18.939187Z",
          "shell.execute_reply": "2024-07-30T00:02:18.946470Z"
        },
        "trusted": true,
        "id": "PT6wD9xK5gKC"
      },
      "execution_count": null,
      "outputs": []
    },
    {
      "cell_type": "markdown",
      "source": [
        "### Show the f1 score for test data and plot confusion matrix"
      ],
      "metadata": {
        "id": "R0Mzm8mV5gKD"
      }
    },
    {
      "cell_type": "code",
      "source": [
        "BILstm_TestLoss,BILstm_f1Score,BILstmCM,BILstmPreds=test_model(BILstmmodel,test_loader,criterion)\n",
        "print(f\"BILSTMLOSS:{BILstm_TestLoss} || BILSTMF1SCORE:{BILstm_f1Score}\")\n",
        "class_names = ['Negative', 'Positive']  # Adjust based on your labels\n",
        "plot_confusion_matrix(BILstmCM, class_names)"
      ],
      "metadata": {
        "execution": {
          "iopub.status.busy": "2024-07-30T00:02:18.948562Z",
          "iopub.execute_input": "2024-07-30T00:02:18.948868Z",
          "iopub.status.idle": "2024-07-30T00:02:19.192110Z",
          "shell.execute_reply.started": "2024-07-30T00:02:18.948845Z",
          "shell.execute_reply": "2024-07-30T00:02:19.191409Z"
        },
        "trusted": true,
        "colab": {
          "referenced_widgets": [
            "b61002ec36a849c394f79f1275a92e6b"
          ]
        },
        "id": "isX4Zpmk5gKD",
        "outputId": "d1477a70-1118-4780-d5ca-4dc8c75dfa59"
      },
      "execution_count": null,
      "outputs": [
        {
          "output_type": "display_data",
          "data": {
            "text/plain": "  0%|          | 0/2 [00:00<?, ?it/s]",
            "application/vnd.jupyter.widget-view+json": {
              "version_major": 2,
              "version_minor": 0,
              "model_id": "b61002ec36a849c394f79f1275a92e6b"
            }
          },
          "metadata": {}
        },
        {
          "name": "stdout",
          "text": "BILSTMLOSS:1.546570599079132 || BILSTMF1SCORE:0.5878787878787879\n",
          "output_type": "stream"
        },
        {
          "output_type": "display_data",
          "data": {
            "text/plain": "<Figure size 1000x700 with 2 Axes>",
            "image/png": "[encoded data removed]"
          },
          "metadata": {}
        }
      ]
    },
    {
      "cell_type": "markdown",
      "source": [
        "### Show test case on BILSTM"
      ],
      "metadata": {
        "id": "YRzFmPMK5gKE"
      }
    },
    {
      "cell_type": "code",
      "source": [
        "idx2Label={0.0:\"NEGATIVE\",1.0:\"POSITIVE\"}"
      ],
      "metadata": {
        "execution": {
          "iopub.status.busy": "2024-07-30T00:02:19.193272Z",
          "iopub.execute_input": "2024-07-30T00:02:19.193617Z",
          "iopub.status.idle": "2024-07-30T00:02:19.198321Z",
          "shell.execute_reply.started": "2024-07-30T00:02:19.193586Z",
          "shell.execute_reply": "2024-07-30T00:02:19.197307Z"
        },
        "trusted": true,
        "id": "ptOvTbHm5gKF"
      },
      "execution_count": null,
      "outputs": []
    },
    {
      "cell_type": "code",
      "source": [
        "for idx in range(BILstmPreds.shape[0]):\n",
        "    test_cases[idx][\"BILSTM\"]=idx2Label[BILstmPreds[idx].item()]"
      ],
      "metadata": {
        "execution": {
          "iopub.status.busy": "2024-07-30T00:02:19.199583Z",
          "iopub.execute_input": "2024-07-30T00:02:19.200106Z",
          "iopub.status.idle": "2024-07-30T00:02:19.208188Z",
          "shell.execute_reply.started": "2024-07-30T00:02:19.200038Z",
          "shell.execute_reply": "2024-07-30T00:02:19.207322Z"
        },
        "trusted": true,
        "id": "uf59_1245gKF"
      },
      "execution_count": null,
      "outputs": []
    },
    {
      "cell_type": "markdown",
      "source": [
        "### Final Result"
      ],
      "metadata": {
        "id": "P-q7C_qm5gKF"
      }
    },
    {
      "cell_type": "code",
      "source": [
        "pd.DataFrame(test_cases)"
      ],
      "metadata": {
        "execution": {
          "iopub.status.busy": "2024-07-30T00:02:19.209404Z",
          "iopub.execute_input": "2024-07-30T00:02:19.209760Z",
          "iopub.status.idle": "2024-07-30T00:02:19.223620Z",
          "shell.execute_reply.started": "2024-07-30T00:02:19.209731Z",
          "shell.execute_reply": "2024-07-30T00:02:19.222702Z"
        },
        "trusted": true,
        "id": "tmqPh3nA5gKG",
        "outputId": "03c221b7-44c3-4a2e-9341-534e987a33e6"
      },
      "execution_count": null,
      "outputs": [
        {
          "execution_count": 44,
          "output_type": "execute_result",
          "data": {
            "text/plain": "                                          text     label    BILSTM\n0                                   I love you  POSITIVE  POSITIVE\n1                                   I hate you  NEGATIVE  NEGATIVE\n2                I hate the selfishness in you  NEGATIVE  NEGATIVE\n3                       I hate anyone hurt you  POSITIVE  NEGATIVE\n4                       I hate anyone hurt you  POSITIVE  NEGATIVE\n5   I hate anyone hurt you, you are my partner  POSITIVE  NEGATIVE\n6      I hate anyone hurt you, you are my love  POSITIVE  POSITIVE\n7                           I like rude people  NEGATIVE  NEGATIVE\n8                     I don't like rude people  POSITIVE  NEGATIVE\n9                         I hate polite people  NEGATIVE  NEGATIVE\n10                  I don't hate polite people  POSITIVE  NEGATIVE\n11                  I love when you are honest  POSITIVE  POSITIVE\n12                  I hate when you are honest  NEGATIVE  POSITIVE\n13            I don't hate when you are honest  POSITIVE  POSITIVE\n14        I like how you always tell the truth  POSITIVE  POSITIVE\n15        I hate how you always tell the truth  NEGATIVE  NEGATIVE\n16             I don't like how you always lie  NEGATIVE  NEGATIVE\n17                    I like how you never lie  POSITIVE  NEGATIVE\n18                  I hate people who are kind  NEGATIVE  NEGATIVE\n19            I don't hate people who are kind  POSITIVE  NEGATIVE",
            "text/html": "<div>\n<style scoped>\n    .dataframe tbody tr th:only-of-type {\n        vertical-align: middle;\n    }\n\n    .dataframe tbody tr th {\n        vertical-align: top;\n    }\n\n    .dataframe thead th {\n        text-align: right;\n    }\n</style>\n<table border=\"1\" class=\"dataframe\">\n  <thead>\n    <tr style=\"text-align: right;\">\n      <th></th>\n      <th>text</th>\n      <th>label</th>\n      <th>BILSTM</th>\n    </tr>\n  </thead>\n  <tbody>\n    <tr>\n      <th>0</th>\n      <td>I love you</td>\n      <td>POSITIVE</td>\n      <td>POSITIVE</td>\n    </tr>\n    <tr>\n      <th>1</th>\n      <td>I hate you</td>\n      <td>NEGATIVE</td>\n      <td>NEGATIVE</td>\n    </tr>\n    <tr>\n      <th>2</th>\n      <td>I hate the selfishness in you</td>\n      <td>NEGATIVE</td>\n      <td>NEGATIVE</td>\n    </tr>\n    <tr>\n      <th>3</th>\n      <td>I hate anyone hurt you</td>\n      <td>POSITIVE</td>\n      <td>NEGATIVE</td>\n    </tr>\n    <tr>\n      <th>4</th>\n      <td>I hate anyone hurt you</td>\n      <td>POSITIVE</td>\n      <td>NEGATIVE</td>\n    </tr>\n    <tr>\n      <th>5</th>\n      <td>I hate anyone hurt you, you are my partner</td>\n      <td>POSITIVE</td>\n      <td>NEGATIVE</td>\n    </tr>\n    <tr>\n      <th>6</th>\n      <td>I hate anyone hurt you, you are my love</td>\n      <td>POSITIVE</td>\n      <td>POSITIVE</td>\n    </tr>\n    <tr>\n      <th>7</th>\n      <td>I like rude people</td>\n      <td>NEGATIVE</td>\n      <td>NEGATIVE</td>\n    </tr>\n    <tr>\n      <th>8</th>\n      <td>I don't like rude people</td>\n      <td>POSITIVE</td>\n      <td>NEGATIVE</td>\n    </tr>\n    <tr>\n      <th>9</th>\n      <td>I hate polite people</td>\n      <td>NEGATIVE</td>\n      <td>NEGATIVE</td>\n    </tr>\n    <tr>\n      <th>10</th>\n      <td>I don't hate polite people</td>\n      <td>POSITIVE</td>\n      <td>NEGATIVE</td>\n    </tr>\n    <tr>\n      <th>11</th>\n      <td>I love when you are honest</td>\n      <td>POSITIVE</td>\n      <td>POSITIVE</td>\n    </tr>\n    <tr>\n      <th>12</th>\n      <td>I hate when you are honest</td>\n      <td>NEGATIVE</td>\n      <td>POSITIVE</td>\n    </tr>\n    <tr>\n      <th>13</th>\n      <td>I don't hate when you are honest</td>\n      <td>POSITIVE</td>\n      <td>POSITIVE</td>\n    </tr>\n    <tr>\n      <th>14</th>\n      <td>I like how you always tell the truth</td>\n      <td>POSITIVE</td>\n      <td>POSITIVE</td>\n    </tr>\n    <tr>\n      <th>15</th>\n      <td>I hate how you always tell the truth</td>\n      <td>NEGATIVE</td>\n      <td>NEGATIVE</td>\n    </tr>\n    <tr>\n      <th>16</th>\n      <td>I don't like how you always lie</td>\n      <td>NEGATIVE</td>\n      <td>NEGATIVE</td>\n    </tr>\n    <tr>\n      <th>17</th>\n      <td>I like how you never lie</td>\n      <td>POSITIVE</td>\n      <td>NEGATIVE</td>\n    </tr>\n    <tr>\n      <th>18</th>\n      <td>I hate people who are kind</td>\n      <td>NEGATIVE</td>\n      <td>NEGATIVE</td>\n    </tr>\n    <tr>\n      <th>19</th>\n      <td>I don't hate people who are kind</td>\n      <td>POSITIVE</td>\n      <td>NEGATIVE</td>\n    </tr>\n  </tbody>\n</table>\n</div>"
          },
          "metadata": {}
        }
      ]
    },
    {
      "cell_type": "markdown",
      "source": [
        "# Approach-2 Training BERT Model"
      ],
      "metadata": {
        "id": "XgpklGXU5gKG"
      }
    },
    {
      "cell_type": "markdown",
      "source": [
        "## Define tokenizer and get maximum length using the tokenizer"
      ],
      "metadata": {
        "id": "WZIix5WY5gKG"
      }
    },
    {
      "cell_type": "code",
      "source": [
        "tokenizer = AutoTokenizer.from_pretrained(\"distilbert-base-uncased\")\n",
        "\n",
        "maxLength=max([len(tokenizer(df[\"text\"].iloc[idx]).input_ids) for idx in range(len(df))])"
      ],
      "metadata": {
        "execution": {
          "iopub.status.busy": "2024-07-30T00:02:19.224784Z",
          "iopub.execute_input": "2024-07-30T00:02:19.225378Z",
          "iopub.status.idle": "2024-07-30T00:02:27.240844Z",
          "shell.execute_reply.started": "2024-07-30T00:02:19.225353Z",
          "shell.execute_reply": "2024-07-30T00:02:27.239909Z"
        },
        "trusted": true,
        "colab": {
          "referenced_widgets": [
            "e21119403cb44a0da2bfc7aebaac9346",
            "2432ce1f82114a53852e5bd159fd0530",
            "22b9ad4eec244f0da71656892f307e5b",
            "840378f8f3af481b9671c3b367825ae4"
          ]
        },
        "id": "lV6jOVb15gKH",
        "outputId": "2522775c-608b-4420-9f42-daef64499c2e"
      },
      "execution_count": null,
      "outputs": [
        {
          "output_type": "display_data",
          "data": {
            "text/plain": "tokenizer_config.json:   0%|          | 0.00/48.0 [00:00<?, ?B/s]",
            "application/vnd.jupyter.widget-view+json": {
              "version_major": 2,
              "version_minor": 0,
              "model_id": "e21119403cb44a0da2bfc7aebaac9346"
            }
          },
          "metadata": {}
        },
        {
          "output_type": "display_data",
          "data": {
            "text/plain": "config.json:   0%|          | 0.00/483 [00:00<?, ?B/s]",
            "application/vnd.jupyter.widget-view+json": {
              "version_major": 2,
              "version_minor": 0,
              "model_id": "2432ce1f82114a53852e5bd159fd0530"
            }
          },
          "metadata": {}
        },
        {
          "output_type": "display_data",
          "data": {
            "text/plain": "vocab.txt:   0%|          | 0.00/232k [00:00<?, ?B/s]",
            "application/vnd.jupyter.widget-view+json": {
              "version_major": 2,
              "version_minor": 0,
              "model_id": "22b9ad4eec244f0da71656892f307e5b"
            }
          },
          "metadata": {}
        },
        {
          "output_type": "display_data",
          "data": {
            "text/plain": "tokenizer.json:   0%|          | 0.00/466k [00:00<?, ?B/s]",
            "application/vnd.jupyter.widget-view+json": {
              "version_major": 2,
              "version_minor": 0,
              "model_id": "840378f8f3af481b9671c3b367825ae4"
            }
          },
          "metadata": {}
        }
      ]
    },
    {
      "cell_type": "markdown",
      "source": [
        "## Create test examples for BERT"
      ],
      "metadata": {
        "id": "hpDb8dII5gKH"
      }
    },
    {
      "cell_type": "code",
      "source": [
        "X_test,Y_test=[t[\"text\"] for t in test_cases],[label2idx[t[\"label\"]] for t in test_cases]"
      ],
      "metadata": {
        "execution": {
          "iopub.status.busy": "2024-07-30T00:02:27.242155Z",
          "iopub.execute_input": "2024-07-30T00:02:27.242617Z",
          "iopub.status.idle": "2024-07-30T00:02:27.247739Z",
          "shell.execute_reply.started": "2024-07-30T00:02:27.242580Z",
          "shell.execute_reply": "2024-07-30T00:02:27.246837Z"
        },
        "trusted": true,
        "id": "wuMZGe4J5gKH"
      },
      "execution_count": null,
      "outputs": []
    },
    {
      "cell_type": "markdown",
      "source": [
        "## Encode the examples fo BERT"
      ],
      "metadata": {
        "id": "hQaKuZId5gKI"
      }
    },
    {
      "cell_type": "code",
      "source": [
        "train_encodings = tokenizer(X_train, truncation=True, padding=\"max_length\",max_length=maxLength)\n",
        "val_encodings = tokenizer(X_vald, truncation=True, padding=\"max_length\",max_length=maxLength)\n",
        "test_encodings = tokenizer(X_test, truncation=True, padding=\"max_length\",max_length=maxLength)"
      ],
      "metadata": {
        "execution": {
          "iopub.status.busy": "2024-07-30T00:02:27.249022Z",
          "iopub.execute_input": "2024-07-30T00:02:27.249612Z",
          "iopub.status.idle": "2024-07-30T00:02:29.675673Z",
          "shell.execute_reply.started": "2024-07-30T00:02:27.249578Z",
          "shell.execute_reply": "2024-07-30T00:02:29.674659Z"
        },
        "trusted": true,
        "id": "plm5eUvX5gKI"
      },
      "execution_count": null,
      "outputs": []
    },
    {
      "cell_type": "markdown",
      "source": [
        "## Define sentiment dataset bert"
      ],
      "metadata": {
        "id": "Jd6oh8pz5gKI"
      }
    },
    {
      "cell_type": "code",
      "source": [
        "class SentimentDatasetBert(Dataset):\n",
        "    def __init__(self, encodings, labels):\n",
        "        self.encodings = encodings\n",
        "        self.labels = labels\n",
        "\n",
        "    def __getitem__(self, idx):\n",
        "        item = {key: torch.tensor(val[idx]) for key, val in self.encodings.items()}\n",
        "        item['labels'] = torch.tensor(self.labels[idx],dtype=torch.long)\n",
        "        return item\n",
        "\n",
        "    def __len__(self):\n",
        "        return len(self.labels)"
      ],
      "metadata": {
        "execution": {
          "iopub.status.busy": "2024-07-30T00:02:29.676855Z",
          "iopub.execute_input": "2024-07-30T00:02:29.677241Z",
          "iopub.status.idle": "2024-07-30T00:02:29.683288Z",
          "shell.execute_reply.started": "2024-07-30T00:02:29.677215Z",
          "shell.execute_reply": "2024-07-30T00:02:29.682328Z"
        },
        "trusted": true,
        "id": "JxYH4ZnS5gKI"
      },
      "execution_count": null,
      "outputs": []
    },
    {
      "cell_type": "markdown",
      "source": [
        "## Create train,test,validation Datset"
      ],
      "metadata": {
        "id": "QHALG_yT5gKJ"
      }
    },
    {
      "cell_type": "code",
      "source": [
        "train_dataset = SentimentDatasetBert(train_encodings, Y_train)\n",
        "val_dataset = SentimentDatasetBert(val_encodings, Y_vald)\n",
        "test_dataset = SentimentDatasetBert(test_encodings, Y_test)"
      ],
      "metadata": {
        "execution": {
          "iopub.status.busy": "2024-07-30T00:02:29.684494Z",
          "iopub.execute_input": "2024-07-30T00:02:29.684831Z",
          "iopub.status.idle": "2024-07-30T00:02:29.701095Z",
          "shell.execute_reply.started": "2024-07-30T00:02:29.684801Z",
          "shell.execute_reply": "2024-07-30T00:02:29.700344Z"
        },
        "trusted": true,
        "id": "KEYdGjA35gKJ"
      },
      "execution_count": null,
      "outputs": []
    },
    {
      "cell_type": "markdown",
      "source": [
        "## Create train,test,validation dataloader"
      ],
      "metadata": {
        "id": "YhFYSN-h5gKJ"
      }
    },
    {
      "cell_type": "code",
      "source": [
        "batch_size=16\n",
        "train_loader = DataLoader(train_dataset, batch_size=batch_size, shuffle=True)\n",
        "val_loader = DataLoader(val_dataset, batch_size=batch_size, shuffle=False)\n",
        "test_loader = DataLoader(test_dataset, batch_size=batch_size, shuffle=False)"
      ],
      "metadata": {
        "execution": {
          "iopub.status.busy": "2024-07-30T00:02:29.702196Z",
          "iopub.execute_input": "2024-07-30T00:02:29.702603Z",
          "iopub.status.idle": "2024-07-30T00:02:29.710274Z",
          "shell.execute_reply.started": "2024-07-30T00:02:29.702573Z",
          "shell.execute_reply": "2024-07-30T00:02:29.709261Z"
        },
        "trusted": true,
        "id": "b2OfRRlb5gKJ"
      },
      "execution_count": null,
      "outputs": []
    },
    {
      "cell_type": "markdown",
      "source": [
        "## Load BERT model"
      ],
      "metadata": {
        "id": "ka2tcXYM5gKK"
      }
    },
    {
      "cell_type": "code",
      "source": [
        "model = AutoModelForSequenceClassification.from_pretrained(\"distilbert-base-uncased\")\n",
        "model=model.to('cuda')  # Move model to GPU if available\n",
        "model"
      ],
      "metadata": {
        "execution": {
          "iopub.status.busy": "2024-07-30T00:02:29.711496Z",
          "iopub.execute_input": "2024-07-30T00:02:29.711791Z",
          "iopub.status.idle": "2024-07-30T00:02:31.471718Z",
          "shell.execute_reply.started": "2024-07-30T00:02:29.711760Z",
          "shell.execute_reply": "2024-07-30T00:02:31.470818Z"
        },
        "trusted": true,
        "colab": {
          "referenced_widgets": [
            "91787be20892419aafe5f87d09351c59"
          ]
        },
        "id": "TzbHtmLa5gKK",
        "outputId": "44bd194e-f3f2-413e-e85f-3c0475b5c925"
      },
      "execution_count": null,
      "outputs": [
        {
          "output_type": "display_data",
          "data": {
            "text/plain": "model.safetensors:   0%|          | 0.00/268M [00:00<?, ?B/s]",
            "application/vnd.jupyter.widget-view+json": {
              "version_major": 2,
              "version_minor": 0,
              "model_id": "91787be20892419aafe5f87d09351c59"
            }
          },
          "metadata": {}
        },
        {
          "name": "stderr",
          "text": "Some weights of DistilBertForSequenceClassification were not initialized from the model checkpoint at distilbert-base-uncased and are newly initialized: ['classifier.bias', 'classifier.weight', 'pre_classifier.bias', 'pre_classifier.weight']\nYou should probably TRAIN this model on a down-stream task to be able to use it for predictions and inference.\n",
          "output_type": "stream"
        },
        {
          "execution_count": 51,
          "output_type": "execute_result",
          "data": {
            "text/plain": "DistilBertForSequenceClassification(\n  (distilbert): DistilBertModel(\n    (embeddings): Embeddings(\n      (word_embeddings): Embedding(30522, 768, padding_idx=0)\n      (position_embeddings): Embedding(512, 768)\n      (LayerNorm): LayerNorm((768,), eps=1e-12, elementwise_affine=True)\n      (dropout): Dropout(p=0.1, inplace=False)\n    )\n    (transformer): Transformer(\n      (layer): ModuleList(\n        (0-5): 6 x TransformerBlock(\n          (attention): MultiHeadSelfAttention(\n            (dropout): Dropout(p=0.1, inplace=False)\n            (q_lin): Linear(in_features=768, out_features=768, bias=True)\n            (k_lin): Linear(in_features=768, out_features=768, bias=True)\n            (v_lin): Linear(in_features=768, out_features=768, bias=True)\n            (out_lin): Linear(in_features=768, out_features=768, bias=True)\n          )\n          (sa_layer_norm): LayerNorm((768,), eps=1e-12, elementwise_affine=True)\n          (ffn): FFN(\n            (dropout): Dropout(p=0.1, inplace=False)\n            (lin1): Linear(in_features=768, out_features=3072, bias=True)\n            (lin2): Linear(in_features=3072, out_features=768, bias=True)\n            (activation): GELUActivation()\n          )\n          (output_layer_norm): LayerNorm((768,), eps=1e-12, elementwise_affine=True)\n        )\n      )\n    )\n  )\n  (pre_classifier): Linear(in_features=768, out_features=768, bias=True)\n  (classifier): Linear(in_features=768, out_features=2, bias=True)\n  (dropout): Dropout(p=0.2, inplace=False)\n)"
          },
          "metadata": {}
        }
      ]
    },
    {
      "cell_type": "markdown",
      "source": [
        "## Training Functions"
      ],
      "metadata": {
        "id": "S-1QM3Qu5gKK"
      }
    },
    {
      "cell_type": "markdown",
      "source": [
        "## Define training function for BERT"
      ],
      "metadata": {
        "id": "7kC67uNS5gKL"
      }
    },
    {
      "cell_type": "code",
      "source": [
        "def train(model, loader, optimizer, scheduler, scaler, accumulation_steps=4):\n",
        "    model.train()\n",
        "    total_loss = 0\n",
        "    all_preds = []\n",
        "    all_labels = []\n",
        "\n",
        "    optimizer.zero_grad()\n",
        "\n",
        "    for i, batch in enumerate(tqdm(loader)):\n",
        "        input_ids = batch['input_ids'].to('cuda')\n",
        "        attention_mask = batch['attention_mask'].to('cuda')\n",
        "        labels = batch['labels'].to('cuda')\n",
        "\n",
        "        with autocast():\n",
        "            outputs = model(input_ids, attention_mask=attention_mask)\n",
        "            loss = F.cross_entropy(outputs.logits, labels) / accumulation_steps\n",
        "            loss =loss / accumulation_steps\n",
        "            total_loss += loss.item() * accumulation_steps\n",
        "\n",
        "        scaler.scale(loss).backward()\n",
        "\n",
        "        if (i + 1) % accumulation_steps == 0:\n",
        "            scaler.step(optimizer)\n",
        "            scaler.update()\n",
        "            optimizer.zero_grad()\n",
        "\n",
        "        preds = torch.argmax(outputs.logits, dim=1)\n",
        "        all_preds.extend(preds)\n",
        "        all_labels.extend(labels)\n",
        "\n",
        "    avg_loss = total_loss / len(loader)\n",
        "    f1 = calculate_f1(torch.tensor(all_labels), torch.tensor(all_preds))\n",
        "\n",
        "    scheduler.step()\n",
        "\n",
        "    return avg_loss, f1"
      ],
      "metadata": {
        "execution": {
          "iopub.status.busy": "2024-07-30T00:02:31.472794Z",
          "iopub.execute_input": "2024-07-30T00:02:31.473100Z",
          "iopub.status.idle": "2024-07-30T00:02:31.482792Z",
          "shell.execute_reply.started": "2024-07-30T00:02:31.473074Z",
          "shell.execute_reply": "2024-07-30T00:02:31.481978Z"
        },
        "trusted": true,
        "id": "dq4VTglh5gKL"
      },
      "execution_count": null,
      "outputs": []
    },
    {
      "cell_type": "markdown",
      "source": [
        "## Define valdition function for BERT"
      ],
      "metadata": {
        "id": "p_jYIMmC5gKL"
      }
    },
    {
      "cell_type": "code",
      "source": [
        "def evaluate(model, loader, scaler):\n",
        "    model.eval()\n",
        "    total_loss = 0\n",
        "    all_preds = []\n",
        "    all_labels = []\n",
        "\n",
        "    with torch.no_grad():\n",
        "        for batch in tqdm(loader):\n",
        "            input_ids = batch['input_ids'].to('cuda')\n",
        "            attention_mask = batch['attention_mask'].to('cuda')\n",
        "            labels = batch['labels'].to('cuda')\n",
        "\n",
        "            with autocast():\n",
        "                outputs = model(input_ids, attention_mask=attention_mask)\n",
        "#                 loss = outputs.loss\n",
        "                loss = F.cross_entropy(outputs.logits, labels\n",
        "\n",
        "                                      )\n",
        "                total_loss += loss.item()\n",
        "\n",
        "            preds = torch.argmax(outputs.logits, dim=1)\n",
        "            all_preds.extend(preds)\n",
        "            all_labels.extend(labels)\n",
        "\n",
        "    avg_loss = total_loss / len(loader)\n",
        "    f1 = calculate_f1(torch.tensor(all_labels), torch.tensor(all_preds))\n",
        "\n",
        "    return avg_loss, f1"
      ],
      "metadata": {
        "execution": {
          "iopub.status.busy": "2024-07-30T00:02:31.483844Z",
          "iopub.execute_input": "2024-07-30T00:02:31.484367Z",
          "iopub.status.idle": "2024-07-30T00:02:31.496866Z",
          "shell.execute_reply.started": "2024-07-30T00:02:31.484343Z",
          "shell.execute_reply": "2024-07-30T00:02:31.495999Z"
        },
        "trusted": true,
        "id": "SNFmNpjg5gKM"
      },
      "execution_count": null,
      "outputs": []
    },
    {
      "cell_type": "markdown",
      "source": [
        "## Define optmizer,scheduler and scaler for fast training"
      ],
      "metadata": {
        "id": "oGlwmxTn5gKN"
      }
    },
    {
      "cell_type": "code",
      "source": [
        "optimizer = optim.AdamW(model.parameters(), lr=5e-5)\n",
        "scheduler = StepLR(optimizer, step_size=1, gamma=0.1)\n",
        "scaler = GradScaler()"
      ],
      "metadata": {
        "execution": {
          "iopub.status.busy": "2024-07-30T00:02:31.497880Z",
          "iopub.execute_input": "2024-07-30T00:02:31.498159Z",
          "iopub.status.idle": "2024-07-30T00:02:31.509465Z",
          "shell.execute_reply.started": "2024-07-30T00:02:31.498137Z",
          "shell.execute_reply": "2024-07-30T00:02:31.508632Z"
        },
        "trusted": true,
        "id": "CiaPRhbo5gKO"
      },
      "execution_count": null,
      "outputs": []
    },
    {
      "cell_type": "markdown",
      "source": [
        "## Adjust the number of epochs as needed and acculmation steps for gradinet accumlation training"
      ],
      "metadata": {
        "id": "BWtoeszL5gKO"
      }
    },
    {
      "cell_type": "code",
      "source": [
        "num_epochs = 4\n",
        "accumulation_steps = 4"
      ],
      "metadata": {
        "id": "-K7nMdQ65gKP"
      },
      "execution_count": null,
      "outputs": []
    },
    {
      "cell_type": "markdown",
      "source": [
        "## Run training for bert"
      ],
      "metadata": {
        "id": "6WKir7Ks5gKP"
      }
    },
    {
      "cell_type": "code",
      "source": [
        "for epoch in tqdm(range(num_epochs)):\n",
        "    train_loss, train_f1 = train(model, train_loader, optimizer, scheduler, scaler, accumulation_steps)\n",
        "    val_loss, val_f1 = evaluate(model, val_loader, scaler)\n",
        "    print(f'Epoch {epoch + 1}, Train Loss: {train_loss}, Train F1: {train_f1}, Validation Loss: {val_loss}, Validation F1: {val_f1}')\n"
      ],
      "metadata": {
        "execution": {
          "iopub.status.busy": "2024-07-30T00:02:31.510499Z",
          "iopub.execute_input": "2024-07-30T00:02:31.510756Z",
          "iopub.status.idle": "2024-07-30T00:14:26.277913Z",
          "shell.execute_reply.started": "2024-07-30T00:02:31.510734Z",
          "shell.execute_reply": "2024-07-30T00:14:26.276992Z"
        },
        "trusted": true,
        "colab": {
          "referenced_widgets": [
            "5f75dfc65c0b468fa5ed386fa244127a",
            "f07d66bfbec44957a15ac05a28b929c8",
            "8fcd6c6cc4684cae8fa19416fcd0a9cd",
            "b48fa25c854945c39add221d308c4bd6",
            "2f976f0a9782474288e5ee592c44f49f",
            "4f25272727f74f74bd4a8dadcb6b08e5",
            "92223f7c4aaf44f399d839652d8aadc0",
            "3809e60a1e0245e7a7e4a108d8ff6de3",
            "7b9c5fe04534471fbf6fced927624f7e"
          ]
        },
        "id": "gxcyZtef5gKQ",
        "outputId": "e4aad528-63c0-4ae0-9051-0c7eed81467b"
      },
      "execution_count": null,
      "outputs": [
        {
          "output_type": "display_data",
          "data": {
            "text/plain": "  0%|          | 0/4 [00:00<?, ?it/s]",
            "application/vnd.jupyter.widget-view+json": {
              "version_major": 2,
              "version_minor": 0,
              "model_id": "5f75dfc65c0b468fa5ed386fa244127a"
            }
          },
          "metadata": {}
        },
        {
          "output_type": "display_data",
          "data": {
            "text/plain": "  0%|          | 0/4284 [00:00<?, ?it/s]",
            "application/vnd.jupyter.widget-view+json": {
              "version_major": 2,
              "version_minor": 0,
              "model_id": "f07d66bfbec44957a15ac05a28b929c8"
            }
          },
          "metadata": {}
        },
        {
          "output_type": "display_data",
          "data": {
            "text/plain": "  0%|          | 0/55 [00:00<?, ?it/s]",
            "application/vnd.jupyter.widget-view+json": {
              "version_major": 2,
              "version_minor": 0,
              "model_id": "8fcd6c6cc4684cae8fa19416fcd0a9cd"
            }
          },
          "metadata": {}
        },
        {
          "name": "stdout",
          "text": "Epoch 1, Train Loss: 0.069557255920741, Train F1: 0.8868007587096327, Validation Loss: 0.391675988110629, Validation F1: 0.8382037439409425\n",
          "output_type": "stream"
        },
        {
          "output_type": "display_data",
          "data": {
            "text/plain": "  0%|          | 0/4284 [00:00<?, ?it/s]",
            "application/vnd.jupyter.widget-view+json": {
              "version_major": 2,
              "version_minor": 0,
              "model_id": "b48fa25c854945c39add221d308c4bd6"
            }
          },
          "metadata": {}
        },
        {
          "output_type": "display_data",
          "data": {
            "text/plain": "  0%|          | 0/55 [00:00<?, ?it/s]",
            "application/vnd.jupyter.widget-view+json": {
              "version_major": 2,
              "version_minor": 0,
              "model_id": "2f976f0a9782474288e5ee592c44f49f"
            }
          },
          "metadata": {}
        },
        {
          "name": "stdout",
          "text": "Epoch 2, Train Loss: 0.031178690470932496, Train F1: 0.9561904646875512, Validation Loss: 0.4506459160284563, Validation F1: 0.8469658353202142\n",
          "output_type": "stream"
        },
        {
          "output_type": "display_data",
          "data": {
            "text/plain": "  0%|          | 0/4284 [00:00<?, ?it/s]",
            "application/vnd.jupyter.widget-view+json": {
              "version_major": 2,
              "version_minor": 0,
              "model_id": "4f25272727f74f74bd4a8dadcb6b08e5"
            }
          },
          "metadata": {}
        },
        {
          "output_type": "display_data",
          "data": {
            "text/plain": "  0%|          | 0/55 [00:00<?, ?it/s]",
            "application/vnd.jupyter.widget-view+json": {
              "version_major": 2,
              "version_minor": 0,
              "model_id": "92223f7c4aaf44f399d839652d8aadc0"
            }
          },
          "metadata": {}
        },
        {
          "name": "stdout",
          "text": "Epoch 3, Train Loss: 0.025790688423826823, Train F1: 0.9646898402373005, Validation Loss: 0.4685710527680137, Validation F1: 0.8448188073303695\n",
          "output_type": "stream"
        },
        {
          "output_type": "display_data",
          "data": {
            "text/plain": "  0%|          | 0/4284 [00:00<?, ?it/s]",
            "application/vnd.jupyter.widget-view+json": {
              "version_major": 2,
              "version_minor": 0,
              "model_id": "3809e60a1e0245e7a7e4a108d8ff6de3"
            }
          },
          "metadata": {}
        },
        {
          "output_type": "display_data",
          "data": {
            "text/plain": "  0%|          | 0/55 [00:00<?, ?it/s]",
            "application/vnd.jupyter.widget-view+json": {
              "version_major": 2,
              "version_minor": 0,
              "model_id": "7b9c5fe04534471fbf6fced927624f7e"
            }
          },
          "metadata": {}
        },
        {
          "name": "stdout",
          "text": "Epoch 4, Train Loss: 0.02535084425667379, Train F1: 0.9651020163661325, Validation Loss: 0.46968028978867965, Validation F1: 0.8436868579389482\n",
          "output_type": "stream"
        }
      ]
    },
    {
      "cell_type": "code",
      "source": [
        "Bertmodel=model.to(\"cuda\")"
      ],
      "metadata": {
        "execution": {
          "iopub.status.busy": "2024-07-30T00:14:26.279280Z",
          "iopub.execute_input": "2024-07-30T00:14:26.279957Z",
          "iopub.status.idle": "2024-07-30T00:14:26.286884Z",
          "shell.execute_reply.started": "2024-07-30T00:14:26.279907Z",
          "shell.execute_reply": "2024-07-30T00:14:26.286009Z"
        },
        "trusted": true,
        "id": "q_Zz0vc-5gKQ"
      },
      "execution_count": null,
      "outputs": []
    },
    {
      "cell_type": "markdown",
      "source": [
        "## Testing-BERT"
      ],
      "metadata": {
        "id": "cJy4_F4W5gKQ"
      }
    },
    {
      "cell_type": "markdown",
      "source": [
        "## Define test function for BERT"
      ],
      "metadata": {
        "id": "KViL8iOz5gKR"
      }
    },
    {
      "cell_type": "code",
      "source": [
        "def test(model, loader):\n",
        "    model.eval()\n",
        "    total_loss = 0\n",
        "    all_preds = []\n",
        "    all_labels = []\n",
        "\n",
        "    with torch.no_grad():\n",
        "        for batch in tqdm(loader):\n",
        "            input_ids = batch['input_ids'].to('cuda')\n",
        "            attention_mask = batch['attention_mask'].to('cuda')\n",
        "            labels = batch['labels'].to('cuda')\n",
        "\n",
        "            with autocast():\n",
        "                outputs = model(input_ids, attention_mask=attention_mask, labels=labels)\n",
        "                loss = outputs.loss\n",
        "                total_loss += loss.item()\n",
        "\n",
        "            preds = torch.argmax(outputs.logits, dim=1)\n",
        "            all_preds.extend(preds)\n",
        "            all_labels.extend(labels)\n",
        "\n",
        "    avg_loss = total_loss / len(loader)\n",
        "    f1 = calculate_f1(torch.tensor(all_labels), torch.tensor(all_preds))\n",
        "    cm = confusion_matrix(torch.tensor(all_labels).cpu().numpy(), torch.tensor(all_preds).cpu().numpy())\n",
        "    return avg_loss, f1,cm"
      ],
      "metadata": {
        "execution": {
          "iopub.status.busy": "2024-07-30T00:14:26.288063Z",
          "iopub.execute_input": "2024-07-30T00:14:26.288327Z",
          "iopub.status.idle": "2024-07-30T00:14:26.297667Z",
          "shell.execute_reply.started": "2024-07-30T00:14:26.288304Z",
          "shell.execute_reply": "2024-07-30T00:14:26.296881Z"
        },
        "trusted": true,
        "id": "7RrlpBO65gKR"
      },
      "execution_count": null,
      "outputs": []
    },
    {
      "cell_type": "markdown",
      "source": [
        "## Run test data on BERT model and plot confusion matrix"
      ],
      "metadata": {
        "id": "Mokswxly5gKR"
      }
    },
    {
      "cell_type": "code",
      "source": [
        "BertLoss,BertF1Score,BertCM=test(Bertmodel,test_loader)\n",
        "print(f\"BertLoss:{BertLoss} || BertF1Score:{BertF1Score}\")\n",
        "class_names = ['Negative', 'Positive']  # Adjust based on your labels\n",
        "plot_confusion_matrix(BertCM, class_names)"
      ],
      "metadata": {
        "execution": {
          "iopub.status.busy": "2024-07-30T00:14:26.298731Z",
          "iopub.execute_input": "2024-07-30T00:14:26.299029Z",
          "iopub.status.idle": "2024-07-30T00:14:26.595528Z",
          "shell.execute_reply.started": "2024-07-30T00:14:26.299005Z",
          "shell.execute_reply": "2024-07-30T00:14:26.594647Z"
        },
        "trusted": true,
        "colab": {
          "referenced_widgets": [
            "0f10ac71abdb416f9b314a1c665b74b0"
          ]
        },
        "id": "s41Ggr5a5gKS",
        "outputId": "0d4bcb2d-1472-44b3-96e2-513ed7aab30d"
      },
      "execution_count": null,
      "outputs": [
        {
          "output_type": "display_data",
          "data": {
            "text/plain": "  0%|          | 0/2 [00:00<?, ?it/s]",
            "application/vnd.jupyter.widget-view+json": {
              "version_major": 2,
              "version_minor": 0,
              "model_id": "0f10ac71abdb416f9b314a1c665b74b0"
            }
          },
          "metadata": {}
        },
        {
          "name": "stdout",
          "text": "BertLoss:0.1668117642402649 || BertF1Score:0.9493333333333334\n",
          "output_type": "stream"
        },
        {
          "output_type": "display_data",
          "data": {
            "text/plain": "<Figure size 1000x700 with 2 Axes>",
            "image/png": "[encoded data removed]"
          },
          "metadata": {}
        }
      ]
    },
    {
      "cell_type": "markdown",
      "source": [
        "## Show test case on BERT"
      ],
      "metadata": {
        "id": "HLrgFzmM5gKS"
      }
    },
    {
      "cell_type": "code",
      "source": [
        "def resolveTestCases(model,tokenizer,name,test_cases,maxLength):\n",
        "    idx2Label={0:\"NEGATIVE\",1:\"POSITIVE\"}\n",
        "    for idx in range(len(test_cases)):\n",
        "        model.eval()\n",
        "        ex=tokenizer(testcase[idx], truncation=True, padding=\"max_length\",max_length=maxLength,return_tensors='pt')\n",
        "        with torch.no_grad():\n",
        "            output=model(ex[\"input_ids\"].to('cuda'), attention_mask=ex[\"attention_mask\"].to('cuda'))\n",
        "            print(output.logits)\n",
        "            test_cases[idx][name]=idx2Label[output.logits.argmax(dim=1).item()]\n",
        "    return test_cases"
      ],
      "metadata": {
        "execution": {
          "iopub.status.busy": "2024-07-30T00:14:26.596667Z",
          "iopub.execute_input": "2024-07-30T00:14:26.597090Z",
          "iopub.status.idle": "2024-07-30T00:14:26.604228Z",
          "shell.execute_reply.started": "2024-07-30T00:14:26.597060Z",
          "shell.execute_reply": "2024-07-30T00:14:26.603325Z"
        },
        "trusted": true,
        "id": "BBy3shac5gKS"
      },
      "execution_count": null,
      "outputs": []
    },
    {
      "cell_type": "code",
      "source": [
        "testcase=[t[\"text\"] for t in test_cases]\n",
        "test_cases=resolveTestCases(Bertmodel,tokenizer,\"BERT\",test_cases,maxLength)"
      ],
      "metadata": {
        "execution": {
          "iopub.status.busy": "2024-07-30T00:14:26.605592Z",
          "iopub.execute_input": "2024-07-30T00:14:26.605854Z",
          "iopub.status.idle": "2024-07-30T00:14:26.864527Z",
          "shell.execute_reply.started": "2024-07-30T00:14:26.605832Z",
          "shell.execute_reply": "2024-07-30T00:14:26.863642Z"
        },
        "trusted": true,
        "id": "zwwz5r2s5gKT",
        "outputId": "71d146ea-b72a-4580-81ea-d0bbc77630c7"
      },
      "execution_count": null,
      "outputs": [
        {
          "name": "stdout",
          "text": "tensor([[-2.6523,  2.9323]], device='cuda:0')\ntensor([[ 1.4588, -1.4849]], device='cuda:0')\ntensor([[ 0.5966, -0.5950]], device='cuda:0')\ntensor([[-2.5661,  2.8825]], device='cuda:0')\ntensor([[-2.5661,  2.8825]], device='cuda:0')\ntensor([[-2.7356,  3.1090]], device='cuda:0')\ntensor([[-2.8436,  3.2136]], device='cuda:0')\ntensor([[ 2.4639, -2.1517]], device='cuda:0')\ntensor([[-1.1314,  1.1730]], device='cuda:0')\ntensor([[ 1.1184, -1.0314]], device='cuda:0')\ntensor([[-1.7893,  1.9123]], device='cuda:0')\ntensor([[-2.8417,  3.2535]], device='cuda:0')\ntensor([[-1.0275,  1.0257]], device='cuda:0')\ntensor([[-2.6906,  3.0446]], device='cuda:0')\ntensor([[-2.5737,  2.9614]], device='cuda:0')\ntensor([[ 0.3548, -0.4535]], device='cuda:0')\ntensor([[ 0.3084, -0.3789]], device='cuda:0')\ntensor([[-2.4809,  2.8305]], device='cuda:0')\ntensor([[ 1.0194, -0.9571]], device='cuda:0')\ntensor([[-2.1333,  2.4170]], device='cuda:0')\n",
          "output_type": "stream"
        }
      ]
    },
    {
      "cell_type": "code",
      "source": [
        "resdf=pd.DataFrame(test_cases)"
      ],
      "metadata": {
        "execution": {
          "iopub.status.busy": "2024-07-30T00:14:26.865525Z",
          "iopub.execute_input": "2024-07-30T00:14:26.865788Z",
          "iopub.status.idle": "2024-07-30T00:14:26.870566Z",
          "shell.execute_reply.started": "2024-07-30T00:14:26.865765Z",
          "shell.execute_reply": "2024-07-30T00:14:26.869607Z"
        },
        "trusted": true,
        "id": "d1ewsBUj5gKT"
      },
      "execution_count": null,
      "outputs": []
    },
    {
      "cell_type": "code",
      "source": [
        "# Function to highlight cells\n",
        "def highlight_columns(row):\n",
        "    styles = []\n",
        "    for col in row.index:\n",
        "        if col == 'BILSTM' or col == 'BERT':\n",
        "            color = 'background-color: lightgreen' if row[col] == row['label'] else 'background-color: red'\n",
        "            styles.append(color)\n",
        "        else:\n",
        "            styles.append('')  # No highlight for 'label' column\n",
        "    return styles"
      ],
      "metadata": {
        "execution": {
          "iopub.status.busy": "2024-07-30T00:14:26.871687Z",
          "iopub.execute_input": "2024-07-30T00:14:26.872037Z",
          "iopub.status.idle": "2024-07-30T00:14:26.881393Z",
          "shell.execute_reply.started": "2024-07-30T00:14:26.872007Z",
          "shell.execute_reply": "2024-07-30T00:14:26.880575Z"
        },
        "trusted": true,
        "id": "ZN93Ci385gKT"
      },
      "execution_count": null,
      "outputs": []
    },
    {
      "cell_type": "markdown",
      "source": [
        "# Show Final Result"
      ],
      "metadata": {
        "id": "r6h0JKSr5gKU"
      }
    },
    {
      "cell_type": "code",
      "source": [
        "# Apply the function to the DataFrame\n",
        "resdf.style.apply(highlight_columns, axis=1)"
      ],
      "metadata": {
        "execution": {
          "iopub.status.busy": "2024-07-30T00:14:26.882261Z",
          "iopub.execute_input": "2024-07-30T00:14:26.882503Z",
          "iopub.status.idle": "2024-07-30T00:14:26.973987Z",
          "shell.execute_reply.started": "2024-07-30T00:14:26.882483Z",
          "shell.execute_reply": "2024-07-30T00:14:26.973120Z"
        },
        "trusted": true,
        "id": "75P7w9uo5gKU",
        "outputId": "c95b5119-1b7a-4da7-886b-1772e4e1e613"
      },
      "execution_count": null,
      "outputs": [
        {
          "execution_count": 63,
          "output_type": "execute_result",
          "data": {
            "text/plain": "<pandas.io.formats.style.Styler at 0x7956d110a1d0>",
            "text/html": "<style type=\"text/css\">\n#T_b0091_row0_col2, #T_b0091_row0_col3, #T_b0091_row1_col2, #T_b0091_row1_col3, #T_b0091_row2_col2, #T_b0091_row2_col3, #T_b0091_row3_col3, #T_b0091_row4_col3, #T_b0091_row5_col3, #T_b0091_row6_col2, #T_b0091_row6_col3, #T_b0091_row7_col2, #T_b0091_row7_col3, #T_b0091_row8_col3, #T_b0091_row9_col2, #T_b0091_row9_col3, #T_b0091_row10_col3, #T_b0091_row11_col2, #T_b0091_row11_col3, #T_b0091_row13_col2, #T_b0091_row13_col3, #T_b0091_row14_col2, #T_b0091_row14_col3, #T_b0091_row15_col2, #T_b0091_row15_col3, #T_b0091_row16_col2, #T_b0091_row16_col3, #T_b0091_row17_col3, #T_b0091_row18_col2, #T_b0091_row18_col3, #T_b0091_row19_col3 {\n  background-color: lightgreen;\n}\n#T_b0091_row3_col2, #T_b0091_row4_col2, #T_b0091_row5_col2, #T_b0091_row8_col2, #T_b0091_row10_col2, #T_b0091_row12_col2, #T_b0091_row12_col3, #T_b0091_row17_col2, #T_b0091_row19_col2 {\n  background-color: red;\n}\n</style>\n<table id=\"T_b0091\">\n  <thead>\n    <tr>\n      <th class=\"blank level0\" >&nbsp;</th>\n      <th id=\"T_b0091_level0_col0\" class=\"col_heading level0 col0\" >text</th>\n      <th id=\"T_b0091_level0_col1\" class=\"col_heading level0 col1\" >label</th>\n      <th id=\"T_b0091_level0_col2\" class=\"col_heading level0 col2\" >BILSTM</th>\n      <th id=\"T_b0091_level0_col3\" class=\"col_heading level0 col3\" >BERT</th>\n    </tr>\n  </thead>\n  <tbody>\n    <tr>\n      <th id=\"T_b0091_level0_row0\" class=\"row_heading level0 row0\" >0</th>\n      <td id=\"T_b0091_row0_col0\" class=\"data row0 col0\" >I love you</td>\n      <td id=\"T_b0091_row0_col1\" class=\"data row0 col1\" >POSITIVE</td>\n      <td id=\"T_b0091_row0_col2\" class=\"data row0 col2\" >POSITIVE</td>\n      <td id=\"T_b0091_row0_col3\" class=\"data row0 col3\" >POSITIVE</td>\n    </tr>\n    <tr>\n      <th id=\"T_b0091_level0_row1\" class=\"row_heading level0 row1\" >1</th>\n      <td id=\"T_b0091_row1_col0\" class=\"data row1 col0\" >I hate you</td>\n      <td id=\"T_b0091_row1_col1\" class=\"data row1 col1\" >NEGATIVE</td>\n      <td id=\"T_b0091_row1_col2\" class=\"data row1 col2\" >NEGATIVE</td>\n      <td id=\"T_b0091_row1_col3\" class=\"data row1 col3\" >NEGATIVE</td>\n    </tr>\n    <tr>\n      <th id=\"T_b0091_level0_row2\" class=\"row_heading level0 row2\" >2</th>\n      <td id=\"T_b0091_row2_col0\" class=\"data row2 col0\" >I hate the selfishness in you</td>\n      <td id=\"T_b0091_row2_col1\" class=\"data row2 col1\" >NEGATIVE</td>\n      <td id=\"T_b0091_row2_col2\" class=\"data row2 col2\" >NEGATIVE</td>\n      <td id=\"T_b0091_row2_col3\" class=\"data row2 col3\" >NEGATIVE</td>\n    </tr>\n    <tr>\n      <th id=\"T_b0091_level0_row3\" class=\"row_heading level0 row3\" >3</th>\n      <td id=\"T_b0091_row3_col0\" class=\"data row3 col0\" >I hate anyone hurt you</td>\n      <td id=\"T_b0091_row3_col1\" class=\"data row3 col1\" >POSITIVE</td>\n      <td id=\"T_b0091_row3_col2\" class=\"data row3 col2\" >NEGATIVE</td>\n      <td id=\"T_b0091_row3_col3\" class=\"data row3 col3\" >POSITIVE</td>\n    </tr>\n    <tr>\n      <th id=\"T_b0091_level0_row4\" class=\"row_heading level0 row4\" >4</th>\n      <td id=\"T_b0091_row4_col0\" class=\"data row4 col0\" >I hate anyone hurt you</td>\n      <td id=\"T_b0091_row4_col1\" class=\"data row4 col1\" >POSITIVE</td>\n      <td id=\"T_b0091_row4_col2\" class=\"data row4 col2\" >NEGATIVE</td>\n      <td id=\"T_b0091_row4_col3\" class=\"data row4 col3\" >POSITIVE</td>\n    </tr>\n    <tr>\n      <th id=\"T_b0091_level0_row5\" class=\"row_heading level0 row5\" >5</th>\n      <td id=\"T_b0091_row5_col0\" class=\"data row5 col0\" >I hate anyone hurt you, you are my partner</td>\n      <td id=\"T_b0091_row5_col1\" class=\"data row5 col1\" >POSITIVE</td>\n      <td id=\"T_b0091_row5_col2\" class=\"data row5 col2\" >NEGATIVE</td>\n      <td id=\"T_b0091_row5_col3\" class=\"data row5 col3\" >POSITIVE</td>\n    </tr>\n    <tr>\n      <th id=\"T_b0091_level0_row6\" class=\"row_heading level0 row6\" >6</th>\n      <td id=\"T_b0091_row6_col0\" class=\"data row6 col0\" >I hate anyone hurt you, you are my love</td>\n      <td id=\"T_b0091_row6_col1\" class=\"data row6 col1\" >POSITIVE</td>\n      <td id=\"T_b0091_row6_col2\" class=\"data row6 col2\" >POSITIVE</td>\n      <td id=\"T_b0091_row6_col3\" class=\"data row6 col3\" >POSITIVE</td>\n    </tr>\n    <tr>\n      <th id=\"T_b0091_level0_row7\" class=\"row_heading level0 row7\" >7</th>\n      <td id=\"T_b0091_row7_col0\" class=\"data row7 col0\" >I like rude people</td>\n      <td id=\"T_b0091_row7_col1\" class=\"data row7 col1\" >NEGATIVE</td>\n      <td id=\"T_b0091_row7_col2\" class=\"data row7 col2\" >NEGATIVE</td>\n      <td id=\"T_b0091_row7_col3\" class=\"data row7 col3\" >NEGATIVE</td>\n    </tr>\n    <tr>\n      <th id=\"T_b0091_level0_row8\" class=\"row_heading level0 row8\" >8</th>\n      <td id=\"T_b0091_row8_col0\" class=\"data row8 col0\" >I don't like rude people</td>\n      <td id=\"T_b0091_row8_col1\" class=\"data row8 col1\" >POSITIVE</td>\n      <td id=\"T_b0091_row8_col2\" class=\"data row8 col2\" >NEGATIVE</td>\n      <td id=\"T_b0091_row8_col3\" class=\"data row8 col3\" >POSITIVE</td>\n    </tr>\n    <tr>\n      <th id=\"T_b0091_level0_row9\" class=\"row_heading level0 row9\" >9</th>\n      <td id=\"T_b0091_row9_col0\" class=\"data row9 col0\" >I hate polite people</td>\n      <td id=\"T_b0091_row9_col1\" class=\"data row9 col1\" >NEGATIVE</td>\n      <td id=\"T_b0091_row9_col2\" class=\"data row9 col2\" >NEGATIVE</td>\n      <td id=\"T_b0091_row9_col3\" class=\"data row9 col3\" >NEGATIVE</td>\n    </tr>\n    <tr>\n      <th id=\"T_b0091_level0_row10\" class=\"row_heading level0 row10\" >10</th>\n      <td id=\"T_b0091_row10_col0\" class=\"data row10 col0\" >I don't hate polite people</td>\n      <td id=\"T_b0091_row10_col1\" class=\"data row10 col1\" >POSITIVE</td>\n      <td id=\"T_b0091_row10_col2\" class=\"data row10 col2\" >NEGATIVE</td>\n      <td id=\"T_b0091_row10_col3\" class=\"data row10 col3\" >POSITIVE</td>\n    </tr>\n    <tr>\n      <th id=\"T_b0091_level0_row11\" class=\"row_heading level0 row11\" >11</th>\n      <td id=\"T_b0091_row11_col0\" class=\"data row11 col0\" >I love when you are honest</td>\n      <td id=\"T_b0091_row11_col1\" class=\"data row11 col1\" >POSITIVE</td>\n      <td id=\"T_b0091_row11_col2\" class=\"data row11 col2\" >POSITIVE</td>\n      <td id=\"T_b0091_row11_col3\" class=\"data row11 col3\" >POSITIVE</td>\n    </tr>\n    <tr>\n      <th id=\"T_b0091_level0_row12\" class=\"row_heading level0 row12\" >12</th>\n      <td id=\"T_b0091_row12_col0\" class=\"data row12 col0\" >I hate when you are honest</td>\n      <td id=\"T_b0091_row12_col1\" class=\"data row12 col1\" >NEGATIVE</td>\n      <td id=\"T_b0091_row12_col2\" class=\"data row12 col2\" >POSITIVE</td>\n      <td id=\"T_b0091_row12_col3\" class=\"data row12 col3\" >POSITIVE</td>\n    </tr>\n    <tr>\n      <th id=\"T_b0091_level0_row13\" class=\"row_heading level0 row13\" >13</th>\n      <td id=\"T_b0091_row13_col0\" class=\"data row13 col0\" >I don't hate when you are honest</td>\n      <td id=\"T_b0091_row13_col1\" class=\"data row13 col1\" >POSITIVE</td>\n      <td id=\"T_b0091_row13_col2\" class=\"data row13 col2\" >POSITIVE</td>\n      <td id=\"T_b0091_row13_col3\" class=\"data row13 col3\" >POSITIVE</td>\n    </tr>\n    <tr>\n      <th id=\"T_b0091_level0_row14\" class=\"row_heading level0 row14\" >14</th>\n      <td id=\"T_b0091_row14_col0\" class=\"data row14 col0\" >I like how you always tell the truth</td>\n      <td id=\"T_b0091_row14_col1\" class=\"data row14 col1\" >POSITIVE</td>\n      <td id=\"T_b0091_row14_col2\" class=\"data row14 col2\" >POSITIVE</td>\n      <td id=\"T_b0091_row14_col3\" class=\"data row14 col3\" >POSITIVE</td>\n    </tr>\n    <tr>\n      <th id=\"T_b0091_level0_row15\" class=\"row_heading level0 row15\" >15</th>\n      <td id=\"T_b0091_row15_col0\" class=\"data row15 col0\" >I hate how you always tell the truth</td>\n      <td id=\"T_b0091_row15_col1\" class=\"data row15 col1\" >NEGATIVE</td>\n      <td id=\"T_b0091_row15_col2\" class=\"data row15 col2\" >NEGATIVE</td>\n      <td id=\"T_b0091_row15_col3\" class=\"data row15 col3\" >NEGATIVE</td>\n    </tr>\n    <tr>\n      <th id=\"T_b0091_level0_row16\" class=\"row_heading level0 row16\" >16</th>\n      <td id=\"T_b0091_row16_col0\" class=\"data row16 col0\" >I don't like how you always lie</td>\n      <td id=\"T_b0091_row16_col1\" class=\"data row16 col1\" >NEGATIVE</td>\n      <td id=\"T_b0091_row16_col2\" class=\"data row16 col2\" >NEGATIVE</td>\n      <td id=\"T_b0091_row16_col3\" class=\"data row16 col3\" >NEGATIVE</td>\n    </tr>\n    <tr>\n      <th id=\"T_b0091_level0_row17\" class=\"row_heading level0 row17\" >17</th>\n      <td id=\"T_b0091_row17_col0\" class=\"data row17 col0\" >I like how you never lie</td>\n      <td id=\"T_b0091_row17_col1\" class=\"data row17 col1\" >POSITIVE</td>\n      <td id=\"T_b0091_row17_col2\" class=\"data row17 col2\" >NEGATIVE</td>\n      <td id=\"T_b0091_row17_col3\" class=\"data row17 col3\" >POSITIVE</td>\n    </tr>\n    <tr>\n      <th id=\"T_b0091_level0_row18\" class=\"row_heading level0 row18\" >18</th>\n      <td id=\"T_b0091_row18_col0\" class=\"data row18 col0\" >I hate people who are kind</td>\n      <td id=\"T_b0091_row18_col1\" class=\"data row18 col1\" >NEGATIVE</td>\n      <td id=\"T_b0091_row18_col2\" class=\"data row18 col2\" >NEGATIVE</td>\n      <td id=\"T_b0091_row18_col3\" class=\"data row18 col3\" >NEGATIVE</td>\n    </tr>\n    <tr>\n      <th id=\"T_b0091_level0_row19\" class=\"row_heading level0 row19\" >19</th>\n      <td id=\"T_b0091_row19_col0\" class=\"data row19 col0\" >I don't hate people who are kind</td>\n      <td id=\"T_b0091_row19_col1\" class=\"data row19 col1\" >POSITIVE</td>\n      <td id=\"T_b0091_row19_col2\" class=\"data row19 col2\" >NEGATIVE</td>\n      <td id=\"T_b0091_row19_col3\" class=\"data row19 col3\" >POSITIVE</td>\n    </tr>\n  </tbody>\n</table>\n"
          },
          "metadata": {}
        }
      ]
    },
    {
      "cell_type": "code",
      "source": [
        "resdf.to_csv(\"result.csv\")"
      ],
      "metadata": {
        "execution": {
          "iopub.status.busy": "2024-07-30T00:14:26.975025Z",
          "iopub.execute_input": "2024-07-30T00:14:26.975416Z",
          "iopub.status.idle": "2024-07-30T00:14:26.981583Z",
          "shell.execute_reply.started": "2024-07-30T00:14:26.975391Z",
          "shell.execute_reply": "2024-07-30T00:14:26.980741Z"
        },
        "trusted": true,
        "id": "IR02aJHX5gKV"
      },
      "execution_count": null,
      "outputs": []
    },
    {
      "cell_type": "markdown",
      "source": [
        "# Key Observations"
      ],
      "metadata": {
        "id": "WbGnSGvm5gKV"
      }
    },
    {
      "cell_type": "markdown",
      "source": [
        "\n",
        "\n",
        "1. **BiLSTM Model Performance:**\n",
        "   - The BiLSTM model demonstrated difficulty in correctly identifying positive sentiment in sentences containing negations or nuanced expressions. For instance, it incorrectly classified \"I don't like rude people\" and \"I don't hate polite people\" as negative.\n",
        "   - It also struggled with sentences where \"I hate\" was used in a positive context, such as \"I hate anyone hurt you.\"\n",
        "\n",
        "2. **BERT Model Performance:**\n",
        "   - The BERT model showed a superior ability to correctly interpret context and handle sentences with negations and nuanced meanings. It correctly classified sentences such as \"I don't like rude people\" and \"I don't hate polite people\" as positive.\n",
        "   - BERT also performed well in identifying the positive sentiment in sentences where \"I hate\" was used in a protective or positive context, such as \"I hate anyone hurt you.\""
      ],
      "metadata": {
        "id": "Gq5WQGfG5gKW"
      }
    },
    {
      "cell_type": "markdown",
      "source": [
        "# Conclusion"
      ],
      "metadata": {
        "id": "rcT5xsuP5gKW"
      }
    },
    {
      "cell_type": "markdown",
      "source": [
        "The results indicate that the BERT model significantly outperforms the BiLSTM model in handling homonyms and contextually complex sentences in sentiment analysis. BERT's advanced contextual understanding allows it to better interpret sentences with negations and nuanced expressions, leading to more accurate sentiment classification.\n",
        "\n",
        "These findings underscore the importance of using context-aware models like BERT for tasks involving complex linguistic features such as homonyms. Future work could explore further enhancements to model architecture and training strategies to improve performance in even more challenging scenarios.\n"
      ],
      "metadata": {
        "id": "GkWG7laj5gKW"
      }
    }
  ]
}